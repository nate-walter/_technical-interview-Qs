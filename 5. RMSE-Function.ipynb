{
 "cells": [
  {
   "cell_type": "markdown",
   "id": "65a36af4",
   "metadata": {},
   "source": [
    " Calculate the RMSE (root mean squared error) of a model. The function takes in two lists: one with actual values, one with predictions."
   ]
  },
  {
   "cell_type": "code",
   "execution_count": 4,
   "id": "c7447527",
   "metadata": {},
   "outputs": [],
   "source": [
    "import math\n",
    "\n",
    "def rmse(y_true, y_pred):\n",
    "    assert len(y_true) == len(y_pred), 'different sizes of arguments'\n",
    "    squares = sum((x - y)**2 for x, y in zip(y_true, y_pred))\n",
    "    return math.sqrt(squares / len(y_true))"
   ]
  },
  {
   "cell_type": "code",
   "execution_count": 7,
   "id": "929df354",
   "metadata": {},
   "outputs": [
    {
     "data": {
      "text/plain": [
       "2.8284271247461903"
      ]
     },
     "execution_count": 7,
     "metadata": {},
     "output_type": "execute_result"
    }
   ],
   "source": [
    "rmse([1,2,3,4,5], [5,4,3,2,1])"
   ]
  },
  {
   "cell_type": "code",
   "execution_count": 4,
   "id": "3846c30d",
   "metadata": {},
   "outputs": [],
   "source": [
    "# returns the assert statement\n",
    "#rmse([1,2,3,4,5], [1,2,3,4,5,6,7,8,9])"
   ]
  },
  {
   "cell_type": "code",
   "execution_count": 4,
   "id": "eed6f79b",
   "metadata": {},
   "outputs": [],
   "source": [
    "import math\n",
    "def rmse(y_true, y_pred):\n",
    "    assert len(y_true) == len(y_pred), 'different sizes of argumnets'\n",
    "    squares = sum((x - y)**2 for x, y in zip(y_true, y_pred))\n",
    "    return math.sqrt(squares / len(y_true))"
   ]
  },
  {
   "cell_type": "code",
   "execution_count": 6,
   "id": "4ac5f993",
   "metadata": {},
   "outputs": [
    {
     "data": {
      "text/plain": [
       "16328.298625392665"
      ]
     },
     "execution_count": 6,
     "metadata": {},
     "output_type": "execute_result"
    }
   ],
   "source": [
    "rmse([1, 2, 3, 40000\n",
    ", 5, 6], [1, 2, 3, 4, 5, 6])"
   ]
  },
  {
   "cell_type": "code",
   "execution_count": null,
   "id": "bd32e41d",
   "metadata": {},
   "outputs": [],
   "source": []
  }
 ],
 "metadata": {
  "kernelspec": {
   "display_name": "firstEnv",
   "language": "python",
   "name": "firstenv"
  },
  "language_info": {
   "codemirror_mode": {
    "name": "ipython",
    "version": 3
   },
   "file_extension": ".py",
   "mimetype": "text/x-python",
   "name": "python",
   "nbconvert_exporter": "python",
   "pygments_lexer": "ipython3",
   "version": "3.9.6"
  },
  "toc": {
   "base_numbering": 1,
   "nav_menu": {},
   "number_sections": true,
   "sideBar": true,
   "skip_h1_title": false,
   "title_cell": "Table of Contents",
   "title_sidebar": "Contents",
   "toc_cell": false,
   "toc_position": {},
   "toc_section_display": true,
   "toc_window_display": false
  }
 },
 "nbformat": 4,
 "nbformat_minor": 5
}
