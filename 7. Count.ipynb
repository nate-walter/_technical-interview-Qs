{
 "cells": [
  {
   "cell_type": "markdown",
   "id": "b0b57a17",
   "metadata": {},
   "source": [
    "Count how many times each element in a list occurs."
   ]
  },
  {
   "cell_type": "code",
   "execution_count": 2,
   "id": "bc89d4e5",
   "metadata": {},
   "outputs": [],
   "source": [
    "numbers = [0, 1, 2, 2, 3, 4, 3, 4, 5, 6,  6, 0, 6, 5, 9]\n",
    "\n",
    "\n",
    "def count(lst):\n",
    "    counter = {}\n",
    "\n",
    "    for elem in lst:\n",
    "        counter[elem] = counter.get(elem, 0) + 1\n",
    "    return counter"
   ]
  },
  {
   "cell_type": "markdown",
   "id": "e0e42f5e",
   "metadata": {},
   "source": [
    "## Or"
   ]
  },
  {
   "cell_type": "code",
   "execution_count": 6,
   "id": "676c4524",
   "metadata": {},
   "outputs": [],
   "source": [
    "from collections import Counter\n",
    "def count2(lst):\n",
    "    counted = Counter(lst)\n",
    "    return counted"
   ]
  },
  {
   "cell_type": "code",
   "execution_count": 5,
   "id": "30112852",
   "metadata": {},
   "outputs": [],
   "source": []
  },
  {
   "cell_type": "code",
   "execution_count": null,
   "id": "e8681303",
   "metadata": {},
   "outputs": [],
   "source": []
  }
 ],
 "metadata": {
  "kernelspec": {
   "display_name": "firstEnv",
   "language": "python",
   "name": "firstenv"
  },
  "language_info": {
   "codemirror_mode": {
    "name": "ipython",
    "version": 3
   },
   "file_extension": ".py",
   "mimetype": "text/x-python",
   "name": "python",
   "nbconvert_exporter": "python",
   "pygments_lexer": "ipython3",
   "version": "3.9.6"
  },
  "toc": {
   "base_numbering": 1,
   "nav_menu": {},
   "number_sections": true,
   "sideBar": true,
   "skip_h1_title": false,
   "title_cell": "Table of Contents",
   "title_sidebar": "Contents",
   "toc_cell": false,
   "toc_position": {},
   "toc_section_display": true,
   "toc_window_display": false
  }
 },
 "nbformat": 4,
 "nbformat_minor": 5
}
