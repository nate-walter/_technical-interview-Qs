{
 "cells": [
  {
   "cell_type": "markdown",
   "id": "b4fe6084",
   "metadata": {},
   "source": [
    "Remove duplicates. Remove duplicates in a list. The list is not sorted and the order of elements from the original list should be preserved."
   ]
  },
  {
   "cell_type": "code",
   "execution_count": 1,
   "id": "9bb6cbb0",
   "metadata": {},
   "outputs": [],
   "source": [
    "def remove_duplicates(lst):\n",
    "    new_list = []\n",
    "    mentioned_values = set()\n",
    "    for elem in lst:\n",
    "        if elem not in mentioned_values:\n",
    "            new_list.append(elem)\n",
    "            mentioned_values.add(elem)\n",
    "    return new_list"
   ]
  },
  {
   "cell_type": "code",
   "execution_count": 3,
   "id": "31e25b5a",
   "metadata": {},
   "outputs": [
    {
     "data": {
      "text/plain": [
       "[1, 4, 5, 6, 3, 2, 21, 7]"
      ]
     },
     "execution_count": 3,
     "metadata": {},
     "output_type": "execute_result"
    }
   ],
   "source": [
    "a = [1, 4, 5, 6, 6, 5, 4, 3, 5, 6, 3, 2, 21, 1, 2, 3, 5, 6, 7, 5, 6, 4, 3, 2, 2, 4]\n",
    "\n",
    "remove_duplicates(a)"
   ]
  },
  {
   "cell_type": "code",
   "execution_count": null,
   "id": "4c440ba3",
   "metadata": {},
   "outputs": [],
   "source": []
  }
 ],
 "metadata": {
  "kernelspec": {
   "display_name": "firstEnv",
   "language": "python",
   "name": "firstenv"
  },
  "language_info": {
   "codemirror_mode": {
    "name": "ipython",
    "version": 3
   },
   "file_extension": ".py",
   "mimetype": "text/x-python",
   "name": "python",
   "nbconvert_exporter": "python",
   "pygments_lexer": "ipython3",
   "version": "3.9.6"
  },
  "toc": {
   "base_numbering": 1,
   "nav_menu": {},
   "number_sections": true,
   "sideBar": true,
   "skip_h1_title": false,
   "title_cell": "Table of Contents",
   "title_sidebar": "Contents",
   "toc_cell": false,
   "toc_position": {},
   "toc_section_display": true,
   "toc_window_display": false
  }
 },
 "nbformat": 4,
 "nbformat_minor": 5
}
