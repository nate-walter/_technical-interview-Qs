{
 "cells": [
  {
   "cell_type": "markdown",
   "id": "e5a49e98",
   "metadata": {},
   "source": [
    "Compute the mean of numbers in a list"
   ]
  },
  {
   "cell_type": "code",
   "execution_count": 20,
   "id": "9c8dbd2c",
   "metadata": {},
   "outputs": [],
   "source": [
    "def mean(numbers):\n",
    "    if len(numbers) > 0:\n",
    "        return sum(numbers)/len(numbers)\n",
    "    return float('NaN')"
   ]
  },
  {
   "cell_type": "code",
   "execution_count": 21,
   "id": "0604d339",
   "metadata": {},
   "outputs": [],
   "source": [
    "digits = [43, 76, 7, 54, 32, 86, 2, 13]"
   ]
  },
  {
   "cell_type": "code",
   "execution_count": 22,
   "id": "7654c6ec",
   "metadata": {},
   "outputs": [
    {
     "data": {
      "text/plain": [
       "39.125"
      ]
     },
     "execution_count": 22,
     "metadata": {},
     "output_type": "execute_result"
    }
   ],
   "source": [
    "mean(digits)"
   ]
  },
  {
   "cell_type": "code",
   "execution_count": 23,
   "id": "d619bf5c",
   "metadata": {},
   "outputs": [
    {
     "data": {
      "text/plain": [
       "313"
      ]
     },
     "execution_count": 23,
     "metadata": {},
     "output_type": "execute_result"
    }
   ],
   "source": [
    "43+76+7+54+32+86+2+13"
   ]
  },
  {
   "cell_type": "code",
   "execution_count": 24,
   "id": "86d50e0f",
   "metadata": {},
   "outputs": [
    {
     "data": {
      "text/plain": [
       "39.125"
      ]
     },
     "execution_count": 24,
     "metadata": {},
     "output_type": "execute_result"
    }
   ],
   "source": [
    "313/8"
   ]
  },
  {
   "cell_type": "code",
   "execution_count": null,
   "id": "56fc2d2d",
   "metadata": {},
   "outputs": [],
   "source": []
  }
 ],
 "metadata": {
  "kernelspec": {
   "display_name": "firstEnv",
   "language": "python",
   "name": "firstenv"
  },
  "language_info": {
   "codemirror_mode": {
    "name": "ipython",
    "version": 3
   },
   "file_extension": ".py",
   "mimetype": "text/x-python",
   "name": "python",
   "nbconvert_exporter": "python",
   "pygments_lexer": "ipython3",
   "version": "3.9.6"
  },
  "toc": {
   "base_numbering": 1,
   "nav_menu": {},
   "number_sections": true,
   "sideBar": true,
   "skip_h1_title": false,
   "title_cell": "Table of Contents",
   "title_sidebar": "Contents",
   "toc_cell": false,
   "toc_position": {},
   "toc_section_display": true,
   "toc_window_display": false
  }
 },
 "nbformat": 4,
 "nbformat_minor": 5
}
