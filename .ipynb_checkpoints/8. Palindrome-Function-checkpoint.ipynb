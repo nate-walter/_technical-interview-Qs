{
 "cells": [
  {
   "cell_type": "markdown",
   "id": "3d253ebc",
   "metadata": {},
   "source": [
    "Palindrome. Is string a palindrome? A palindrome is a word which reads the same backward as forwards"
   ]
  },
  {
   "cell_type": "markdown",
   "id": "e1896f37",
   "metadata": {},
   "source": [
    "\"racecar\" = yes\n",
    "\n",
    "\"cafe\" = no"
   ]
  },
  {
   "cell_type": "code",
   "execution_count": 1,
   "id": "01e787ab",
   "metadata": {},
   "outputs": [],
   "source": [
    "def palindrome(s):\n",
    "    return s == s[::-1]"
   ]
  },
  {
   "cell_type": "markdown",
   "id": "f5f3ae75",
   "metadata": {},
   "source": [
    "## Or"
   ]
  },
  {
   "cell_type": "code",
   "execution_count": 3,
   "id": "c49238ee",
   "metadata": {},
   "outputs": [],
   "source": [
    "def palindrome_long(s):\n",
    "    for i in range(len(s) // 2):\n",
    "        if s[i] != s[-i -1]:\n",
    "            return False\n",
    "    return True"
   ]
  },
  {
   "cell_type": "markdown",
   "id": "ad68b65f",
   "metadata": {},
   "source": [
    "*********************************************************************************"
   ]
  },
  {
   "cell_type": "code",
   "execution_count": 1,
   "id": "882ffdbd",
   "metadata": {},
   "outputs": [],
   "source": []
  },
  {
   "cell_type": "code",
   "execution_count": 1,
   "id": "7ce19168",
   "metadata": {},
   "outputs": [
    {
     "ename": "IndentationError",
     "evalue": "expected an indented block (4103971184.py, line 1)",
     "output_type": "error",
     "traceback": [
      "\u001b[0;36m  File \u001b[0;32m\"/var/folders/dp/5k1wgpbj6d72lnbdgvwv16l40000gn/T/ipykernel_3674/4103971184.py\"\u001b[0;36m, line \u001b[0;32m1\u001b[0m\n\u001b[0;31m    def long_palindrome(s):\u001b[0m\n\u001b[0m                           ^\u001b[0m\n\u001b[0;31mIndentationError\u001b[0m\u001b[0;31m:\u001b[0m expected an indented block\n"
     ]
    }
   ],
   "source": []
  },
  {
   "cell_type": "code",
   "execution_count": null,
   "id": "082893d4",
   "metadata": {},
   "outputs": [],
   "source": []
  }
 ],
 "metadata": {
  "kernelspec": {
   "display_name": "firstEnv",
   "language": "python",
   "name": "firstenv"
  },
  "language_info": {
   "codemirror_mode": {
    "name": "ipython",
    "version": 3
   },
   "file_extension": ".py",
   "mimetype": "text/x-python",
   "name": "python",
   "nbconvert_exporter": "python",
   "pygments_lexer": "ipython3",
   "version": "3.9.6"
  },
  "toc": {
   "base_numbering": 1,
   "nav_menu": {},
   "number_sections": true,
   "sideBar": true,
   "skip_h1_title": false,
   "title_cell": "Table of Contents",
   "title_sidebar": "Contents",
   "toc_cell": false,
   "toc_position": {},
   "toc_section_display": true,
   "toc_window_display": false
  }
 },
 "nbformat": 4,
 "nbformat_minor": 5
}
