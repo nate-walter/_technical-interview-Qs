{
 "cells": [
  {
   "cell_type": "raw",
   "id": "d2a3f822",
   "metadata": {},
   "source": [
    "The Rule of 72 is a simple way to determine how long an investment will take to double given a fixed annual rate of interest. By dividing 72 by the annual rate of return, investors obtain a rough estimate of how many years it will take for the initial investment to duplicate itself."
   ]
  },
  {
   "cell_type": "code",
   "execution_count": 6,
   "id": "2b4b75ea",
   "metadata": {},
   "outputs": [],
   "source": [
    "# annual rate of return = arr\n",
    "\n",
    "def double_time(arr):\n",
    "    rate = 72 / arr\n",
    "    return(f\"It will take {rate} years for revenue to double\")"
   ]
  },
  {
   "cell_type": "code",
   "execution_count": null,
   "id": "418af751",
   "metadata": {},
   "outputs": [],
   "source": []
  }
 ],
 "metadata": {
  "kernelspec": {
   "display_name": "firstEnv",
   "language": "python",
   "name": "firstenv"
  },
  "language_info": {
   "codemirror_mode": {
    "name": "ipython",
    "version": 3
   },
   "file_extension": ".py",
   "mimetype": "text/x-python",
   "name": "python",
   "nbconvert_exporter": "python",
   "pygments_lexer": "ipython3",
   "version": "3.9.6"
  },
  "toc": {
   "base_numbering": 1,
   "nav_menu": {},
   "number_sections": true,
   "sideBar": true,
   "skip_h1_title": false,
   "title_cell": "Table of Contents",
   "title_sidebar": "Contents",
   "toc_cell": false,
   "toc_position": {},
   "toc_section_display": true,
   "toc_window_display": false
  }
 },
 "nbformat": 4,
 "nbformat_minor": 5
}
