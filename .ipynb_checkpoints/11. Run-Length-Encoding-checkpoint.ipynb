{
 "cells": [
  {
   "cell_type": "markdown",
   "id": "ef0ee97f",
   "metadata": {},
   "source": [
    "RLE. Implement RLE (run-length encoding): encode each character by the number of times it appears consecutively.\n",
    "\n",
    "'aaaabbbcca' ⇒ [('a', 4), ('b', 3), ('c', 2), ('a', 1)]\n",
    "\n",
    "(note that there are two groups of 'a')"
   ]
  },
  {
   "cell_type": "code",
   "execution_count": 1,
   "id": "94b4466e",
   "metadata": {},
   "outputs": [],
   "source": [
    "letters = \"jjjjiiioolllllssssssdddeeeii\""
   ]
  },
  {
   "cell_type": "code",
   "execution_count": 15,
   "id": "fb99a54f",
   "metadata": {},
   "outputs": [],
   "source": [
    "def rle(s):\n",
    "    ans, cur, num = [], None, 0\n",
    "    for i in range(len(s)):\n",
    "        if i == 0:\n",
    "            cur, num = s[i], 1\n",
    "        elif cur != s[i]:\n",
    "            ans.append((cur, num))\n",
    "            cur, num = s[i], 1\n",
    "        else:\n",
    "            num += 1\n",
    "        if i == len(s) - 1:\n",
    "            ans.append((cur, num))\n",
    "    return ans"
   ]
  },
  {
   "cell_type": "markdown",
   "id": "63aa827f",
   "metadata": {},
   "source": [
    "### Using Itertools groupby"
   ]
  },
  {
   "cell_type": "code",
   "execution_count": 25,
   "id": "d221e882",
   "metadata": {
    "code_folding": []
   },
   "outputs": [],
   "source": [
    "import itertools\n",
    "\n",
    "def iter_rle(s):\n",
    "    return [(l, len(list(g))) for l, g in itertools.groupby(s)]"
   ]
  },
  {
   "cell_type": "code",
   "execution_count": null,
   "id": "740ea38c",
   "metadata": {},
   "outputs": [],
   "source": []
  },
  {
   "cell_type": "code",
   "execution_count": null,
   "id": "83ba9f0c",
   "metadata": {},
   "outputs": [],
   "source": []
  }
 ],
 "metadata": {
  "kernelspec": {
   "display_name": "firstEnv",
   "language": "python",
   "name": "firstenv"
  },
  "language_info": {
   "codemirror_mode": {
    "name": "ipython",
    "version": 3
   },
   "file_extension": ".py",
   "mimetype": "text/x-python",
   "name": "python",
   "nbconvert_exporter": "python",
   "pygments_lexer": "ipython3",
   "version": "3.9.6"
  },
  "toc": {
   "base_numbering": 1,
   "nav_menu": {},
   "number_sections": true,
   "sideBar": true,
   "skip_h1_title": false,
   "title_cell": "Table of Contents",
   "title_sidebar": "Contents",
   "toc_cell": false,
   "toc_position": {},
   "toc_section_display": true,
   "toc_window_display": false
  }
 },
 "nbformat": 4,
 "nbformat_minor": 5
}
