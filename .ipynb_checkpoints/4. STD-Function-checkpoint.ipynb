{
 "cells": [
  {
   "cell_type": "markdown",
   "id": "7056e44a",
   "metadata": {},
   "source": [
    "Calculate the standard deviation of elements in a list."
   ]
  },
  {
   "cell_type": "code",
   "execution_count": 19,
   "id": "4e4af53b",
   "metadata": {},
   "outputs": [],
   "source": [
    "from math import sqrt\n",
    "def std(numbers):\n",
    "    if len(numbers) > 1:\n",
    "        avg = sum(numbers) / len(numbers)\n",
    "        var = sum((i - avg)**2 for i in numbers) / (len(numbers) - 1)\n",
    "        std = sqrt(var)\n",
    "        return std\n",
    "    return float('NaN')"
   ]
  },
  {
   "cell_type": "code",
   "execution_count": 20,
   "id": "02b3a79c",
   "metadata": {},
   "outputs": [
    {
     "data": {
      "text/plain": [
       "1.0080322575483707"
      ]
     },
     "execution_count": 20,
     "metadata": {},
     "output_type": "execute_result"
    }
   ],
   "source": [
    "std([3, 4, 2, 2, 2, 2, 2, 2, 2, 4, \n",
    "    3, 2, 2, 2, 2, 2, 2, 2, 4, 2, 4, 4, 2, 3, 2, 2, 2, 4, 3,\n",
    "    2, 6, 2])"
   ]
  },
  {
   "cell_type": "code",
   "execution_count": null,
   "id": "b9dafe62",
   "metadata": {},
   "outputs": [],
   "source": []
  }
 ],
 "metadata": {
  "kernelspec": {
   "display_name": "firstEnv",
   "language": "python",
   "name": "firstenv"
  },
  "language_info": {
   "codemirror_mode": {
    "name": "ipython",
    "version": 3
   },
   "file_extension": ".py",
   "mimetype": "text/x-python",
   "name": "python",
   "nbconvert_exporter": "python",
   "pygments_lexer": "ipython3",
   "version": "3.9.6"
  },
  "toc": {
   "base_numbering": 1,
   "nav_menu": {},
   "number_sections": true,
   "sideBar": true,
   "skip_h1_title": false,
   "title_cell": "Table of Contents",
   "title_sidebar": "Contents",
   "toc_cell": false,
   "toc_position": {},
   "toc_section_display": true,
   "toc_window_display": false
  }
 },
 "nbformat": 4,
 "nbformat_minor": 5
}
