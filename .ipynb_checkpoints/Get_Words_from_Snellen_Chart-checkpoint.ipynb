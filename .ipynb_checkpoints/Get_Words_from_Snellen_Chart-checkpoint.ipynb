{
 "cells": [
  {
   "cell_type": "markdown",
   "id": "a80adb18",
   "metadata": {},
   "source": [
    "# I've thought frequently about how many unique real words could be made using only the letters of the Eye Chart. It sounds like a perfect task for computer science and Python. So here we go"
   ]
  },
  {
   "cell_type": "markdown",
   "id": "98fbf727",
   "metadata": {},
   "source": [
    "### The Eye Chart letters as a set"
   ]
  },
  {
   "cell_type": "code",
   "execution_count": 108,
   "id": "3de09271",
   "metadata": {},
   "outputs": [
    {
     "data": {
      "text/plain": [
       "9"
      ]
     },
     "execution_count": 108,
     "metadata": {},
     "output_type": "execute_result"
    }
   ],
   "source": [
    "snellen_set = set(['e', 'f', 'p', 't', 'o', 'z', 'l', 'p',\n",
    "                     'e', 'd', 'p', 'e', 'c', 'f', 'd', 'e',\n",
    "                     'd', 'f', 'c', 'z', 'p', 'f', 'e', 'l',\n",
    "                     'o', 'p', 'z', 'd', 'd', 'e', 'f', 'p', \n",
    "                     'o', 't', 'e', 'c', 'l', 'e', 'f', 'o', \n",
    "                     'd', 'p', 'c', 't', 'f', 'd', 'p', 'l', \n",
    "                     't', 'c', 'e', 'o', 'p', 'e', 'z', 'o',\n",
    "                     'l', 'c', 'f', 't', 'd'])\n",
    "snellen_set = list(snellen_set)\n",
    "len(snellen_set)"
   ]
  },
  {
   "cell_type": "markdown",
   "id": "3e7e6489",
   "metadata": {},
   "source": [
    "### As a list"
   ]
  },
  {
   "cell_type": "code",
   "execution_count": 109,
   "id": "609c5094",
   "metadata": {},
   "outputs": [
    {
     "data": {
      "text/plain": [
       "61"
      ]
     },
     "execution_count": 109,
     "metadata": {},
     "output_type": "execute_result"
    }
   ],
   "source": [
    "snellen_list = ['e', 'f', 'p', 't', 'o', 'z', 'l', 'p',\n",
    "                     'e', 'd', 'p', 'e', 'c', 'f', 'd', 'e',\n",
    "                     'd', 'f', 'c', 'z', 'p', 'f', 'e', 'l',\n",
    "                     'o', 'p', 'z', 'd', 'd', 'e', 'f', 'p', \n",
    "                     'o', 't', 'e', 'c', 'l', 'e', 'f', 'o', \n",
    "                     'd', 'p', 'c', 't', 'f', 'd', 'p', 'l', \n",
    "                     't', 'c', 'e', 'o', 'p', 'e', 'z', 'o',\n",
    "                     'l', 'c', 'f', 't', 'd']\n",
    "len(snellen_list)"
   ]
  },
  {
   "cell_type": "code",
   "execution_count": 110,
   "id": "4033b1ad",
   "metadata": {},
   "outputs": [],
   "source": [
    "for i in range(len(snellen_set)):\n",
    "    snellen_set[i] = snellen_set[i].upper()"
   ]
  },
  {
   "cell_type": "markdown",
   "id": "6b55b456",
   "metadata": {},
   "source": [
    "#### Making a class to get rid of curly brackets when printing out our set of Test Card letters"
   ]
  },
  {
   "cell_type": "code",
   "execution_count": 111,
   "id": "6bee3063",
   "metadata": {},
   "outputs": [],
   "source": [
    "class sset(set):\n",
    "    def __str__(self):\n",
    "        return ', '.join([str(i) for i in self])"
   ]
  },
  {
   "cell_type": "code",
   "execution_count": 112,
   "id": "1dc00ca9",
   "metadata": {},
   "outputs": [
    {
     "name": "stdout",
     "output_type": "stream",
     "text": [
      "The letters that appear on the Snellen Test Card are: L, P, O, C, E, F, T, Z, D\n"
     ]
    }
   ],
   "source": [
    "print(f'The letters that appear on the Snellen Test Card are: {sset(snellen_set)}')"
   ]
  },
  {
   "cell_type": "code",
   "execution_count": 116,
   "id": "03f0d794",
   "metadata": {},
   "outputs": [
    {
     "name": "stdout",
     "output_type": "stream",
     "text": [
      "There are only 9 unique letters on the Eye Chart\n",
      "And there are 61 total letters  on the Chart\n"
     ]
    }
   ],
   "source": [
    "amount = len(sset(snellen_set))\n",
    "chart_lenght = len(snellen_list)\n",
    "print(f'There are only {amount} unique letters on the Eye Chart')\n",
    "print(f'And there are {chart_lenght} total letters  on the Chart')"
   ]
  },
  {
   "cell_type": "markdown",
   "id": "a4cc3084",
   "metadata": {},
   "source": [
    "## Let's see how many times each letter shows up on the card"
   ]
  },
  {
   "cell_type": "markdown",
   "id": "3864a0ac",
   "metadata": {},
   "source": [
    "#### Since the letters are printed in upper case block-style, let's convert them to upper case in our print out"
   ]
  },
  {
   "cell_type": "code",
   "execution_count": 120,
   "id": "78b29b0b",
   "metadata": {},
   "outputs": [],
   "source": [
    "\n",
    "for i in range(len(snellen_list)):\n",
    "    snellen_list[i] = snellen_list[i].upper()"
   ]
  },
  {
   "cell_type": "code",
   "execution_count": 123,
   "id": "dc43e25a",
   "metadata": {},
   "outputs": [
    {
     "name": "stdout",
     "output_type": "stream",
     "text": [
      "Here's how frequently each letter appears on the test card\n"
     ]
    },
    {
     "data": {
      "text/plain": [
       "[('E', 10),\n",
       " ('P', 9),\n",
       " ('F', 8),\n",
       " ('D', 8),\n",
       " ('O', 6),\n",
       " ('C', 6),\n",
       " ('T', 5),\n",
       " ('L', 5),\n",
       " ('Z', 4)]"
      ]
     },
     "execution_count": 123,
     "metadata": {},
     "output_type": "execute_result"
    }
   ],
   "source": [
    "from collections import Counter\n",
    "\n",
    "amount = Counter(snellen_list)\n",
    "\n",
    "print(\"Here's how frequently each letter appears on the test card\")\n",
    "amount.most_common()"
   ]
  },
  {
   "cell_type": "markdown",
   "id": "8895a7de",
   "metadata": {},
   "source": [
    "## Bringing in the NLTK Corpus"
   ]
  },
  {
   "cell_type": "code",
   "execution_count": 16,
   "id": "2cf4d4f2",
   "metadata": {},
   "outputs": [
    {
     "name": "stderr",
     "output_type": "stream",
     "text": [
      "[nltk_data] Downloading package words to\n",
      "[nltk_data]     /Users/nathanwalter/nltk_data...\n",
      "[nltk_data]   Package words is already up-to-date!\n"
     ]
    },
    {
     "data": {
      "text/plain": [
       "True"
      ]
     },
     "execution_count": 16,
     "metadata": {},
     "output_type": "execute_result"
    }
   ],
   "source": [
    "import nltk\n",
    "nltk.download('words')"
   ]
  },
  {
   "cell_type": "code",
   "execution_count": 125,
   "id": "74e33b2b",
   "metadata": {},
   "outputs": [
    {
     "name": "stdout",
     "output_type": "stream",
     "text": [
      "There are 236,736 words for us to reference in nltk\n"
     ]
    }
   ],
   "source": [
    "from nltk.corpus import words\n",
    "word_list = words.words()\n",
    "length_nltk = (len(word_list))\n",
    "\n",
    "print(f\"There are {length_nltk:,} words for us to reference in nltk\")"
   ]
  },
  {
   "cell_type": "markdown",
   "id": "48ea24d9",
   "metadata": {},
   "source": [
    "# Using Trie to create a list of eye chart words from NLTK "
   ]
  },
  {
   "cell_type": "code",
   "execution_count": 19,
   "id": "355ecff1",
   "metadata": {},
   "outputs": [],
   "source": [
    "trie = {}\n",
    "\n",
    "for word in word_list:\n",
    "    cur = trie\n",
    "    for l in word:\n",
    "        cur  = cur.setdefault(l, {})\n",
    "        cur['word'] = True # defined if this node indicates a complete word\n",
    "        \n",
    "def findWords(word, trie = trie, cur = '', word_list = []):\n",
    "    for i, letter in enumerate(word):\n",
    "        if letter in trie:\n",
    "            if 'word' in trie[letter]:\n",
    "                word_list.append(cur + letter)\n",
    "            findWords(word, trie[letter], cur+letter, word_list )    \n",
    "            # first example: findWords(word[:i] + word[i+1:], trie[letter], cur+letter, word_list )\n",
    "\n",
    "    return word_list\n",
    "\n",
    "words_longer = findWords(\"epfdoctlz\")"
   ]
  },
  {
   "cell_type": "code",
   "execution_count": 20,
   "id": "8ab64d8f",
   "metadata": {
    "collapsed": true
   },
   "outputs": [
    {
     "name": "stdout",
     "output_type": "stream",
     "text": [
      "['ee', 'eel', 'eele', 'eelp', 'eelpo', 'eelpot', 'eelf', 'eelc', 'eell', 'ep', 'epe', 'epee', 'epep', 'epepo', 'epepop', 'eped', 'epo', 'epop', 'epope', 'epopee', 'epopo', 'epopoe', 'epopt', 'epopte', 'epod', 'epode', 'epoo', 'epoop', 'epoc', 'epol', 'epoll', 'ef', 'eff', 'effe', 'effec', 'effect', 'effecte', 'effectf', 'effecto', 'effectl', 'effectle', 'effet', 'effete', 'effo', 'effod', 'effl', 'efflo', 'efo', 'efol', 'eft', 'efte', 'efl', 'ed', 'ede', 'edeo', 'edeod', 'edeot', 'edeoto', 'edeol', 'edeolo', 'edel', 'edd', 'edde', 'eddo', 'eo', 'eop', 'eol', 'eoz', 'eozo', 'eozoo', 'ec', 'ece', 'ecp', 'ecd', 'ecde', 'eco', 'ecop', 'ecot', 'ecoto', 'ecol', 'ecole', 'ecolo', 'ecc', 'ecce', 'ecco', 'eccop', 'eccl', 'eccle', 'ect', 'ecte', 'ectep', 'ectet', 'ecto', 'ectoe', 'ectoet', 'ectop', 'ectopt', 'ectopte', 'ectopl', 'ectod', 'ectode', 'ectoc', 'ectoco', 'ectocoe', 'ectocoel', 'ectot', 'ectoto', 'ectol', 'ectole', 'ectolec', 'ectolo', 'ectolop', 'ectoz', 'ectozo', 'ectozoo', 'ecl', 'ecle', 'eclec', 'eclect', 'eclo', 'ecz', 'ecze', 'et', 'ete', 'etc', 'ett', 'ettl', 'ettle', 'el', 'ele', 'elee', 'elep', 'eleo', 'eleop', 'eleopt', 'eleopte', 'eleol', 'elec', 'elect', 'electe', 'electee', 'electo', 'electl', 'elp', 'elf', 'elfe', 'elfl', 'elflo', 'elfloc', 'eld', 'elde', 'elo', 'elop', 'elope', 'elod', 'eloc', 'elot', 'elc', 'elt', 'ell', 'elle', 'ellec', 'ellf', 'ello', 'ellop', 'ez', 'pe', 'pee', 'peep', 'peepe', 'peed', 'peeo', 'peet', 'peel', 'peele', 'peeled', 'pep', 'pepe', 'pepp', 'peppe', 'pepf', 'pepo', 'pept', 'pepto', 'peptot', 'peptoto', 'peptol', 'pepl', 'peplo', 'ped', 'pede', 'pedee', 'pedet', 'pedete', 'pedel', 'pedd', 'pedde', 'peddl', 'peddle', 'pedo', 'pedop', 'pedod', 'pedodo', 'pedoc', 'pedot', 'pedol', 'pedolo', 'pedl', 'peo', 'peop', 'peopl', 'people', 'peopled', 'peopledo', 'peoplet', 'peoplel', 'peoplele', 'peot', 'peoto', 'pec', 'peco', 'pecop', 'pecopt', 'pecopte', 'pecc', 'pect', 'pecte', 'pecto', 'pectoc', 'pectoce', 'pectocel', 'pectocell', 'pectol', 'pet', 'pete', 'petec', 'petf', 'peto', 'petc', 'petco', 'petcoc', 'pett', 'pette', 'petted', 'pettedl', 'pettl', 'pettle', 'petl', 'petz', 'pel', 'pele', 'pelec', 'pelel', 'pelf', 'pelo', 'pelod', 'pelot', 'peloto', 'pelt', 'pelte', 'peltl', 'peltle', 'pell', 'pelle', 'pellet', 'pellete', 'pelleted', 'pelletl', 'pello', 'pelloc', 'pellot', 'pez', 'pezo', 'pf', 'pfe', 'pfef', 'pfeff', 'pfeffe', 'po', 'poe', 'poep', 'poec', 'poet', 'poete', 'poetd', 'poetdo', 'poeto', 'poetc', 'poetl', 'poetle', 'pop', 'pope', 'poped', 'popedo', 'popel', 'popele', 'popp', 'poppe', 'poppet', 'poppel', 'poppl', 'popple', 'popd', 'popdo', 'popdoc', 'popo', 'popc', 'popco', 'popl', 'poplo', 'poplol', 'poploll', 'pod', 'pode', 'podeo', 'podet', 'podel', 'podelc', 'podelco', 'podd', 'podde', 'podded', 'poddl', 'poddle', 'podo', 'podop', 'podod', 'podode', 'podoc', 'podoce', 'podocep', 'podot', 'podol', 'podolo', 'podl', 'podle', 'podz', 'podzo', 'podzol', 'poo', 'poop', 'poope', 'pooped', 'poof', 'pood', 'poode', 'poodl', 'poodle', 'poodled', 'poodledo', 'pooc', 'poot', 'pool', 'poole', 'poc', 'poco', 'pococ', 'pot', 'pote', 'potee', 'potec', 'potp', 'potpo', 'potf', 'potd', 'poto', 'potoo', 'potc', 'pott', 'potte', 'potted', 'potto', 'pottl', 'pottle', 'pottled', 'potl', 'potle', 'pol', 'pole', 'polec', 'polel', 'polele', 'pold', 'polde', 'polo', 'poloc', 'poloco', 'polt', 'polte', 'poltf', 'poltfo', 'poltfoo', 'poltfoot', 'poltfoote', 'poltfooted', 'polto', 'poltop', 'poll', 'polle', 'polled', 'pollet', 'pollete', 'pollo', 'polloc', 'polz', 'polze', 'poz', 'pozz', 'pozzo', 'pozzol', 'pt', 'pte', 'pto', 'ptoc', 'ptot', 'pl', 'ple', 'pled', 'pleo', 'pleop', 'pleopo', 'pleopod', 'pleod', 'pleodo', 'pleoc', 'plec', 'pleco', 'plecop', 'plecopt', 'plecopte', 'plecot', 'plect', 'plecto', 'plectop', 'plectopt', 'plectopte', 'plet', 'plo', 'plop', 'plod', 'plodd', 'plodde', 'ploo', 'ploc', 'ploce', 'plot', 'plote', 'plotp', 'plotf', 'plott', 'plotte', 'plotted', 'plotl', 'plotle', 'fe', 'fee', 'feed', 'feede', 'feet', 'feetl', 'feetle', 'feel', 'feele', 'feez', 'feeze', 'fef', 'fed', 'fede', 'fedd', 'feo', 'feof', 'feoff', 'feoffe', 'feoffee', 'feoffo', 'feod', 'fec', 'fece', 'fet', 'fete', 'fetel', 'fetele', 'feto', 'fetop', 'fetopl', 'fetc', 'fett', 'fette', 'fettl', 'fettle', 'fetl', 'fetlo', 'fetloc', 'fel', 'feld', 'felo', 'felt', 'felte', 'felted', 'feltl', 'fell', 'felle', 'fello', 'felloe', 'fez', 'fezz', 'fezze', 'fezzed', 'fo', 'foe', 'foet', 'foel', 'foele', 'fop', 'fopp', 'foppe', 'fopl', 'fod', 'fode', 'fodd', 'fodde', 'foo', 'foof', 'food', 'foode', 'foodf', 'foodl', 'foodle', 'foot', 'foote', 'footed', 'footp', 'footpl', 'footf', 'footfo', 'footfol', 'footc', 'footcl', 'footclo', 'footclot', 'footl', 'footle', 'footlo', 'footloc', 'fool', 'foole', 'foolp', 'foolf', 'foold', 'fooldo', 'foolo', 'fooloc', 'fooll', 'fooz', 'foozl', 'foozle', 'foc', 'foco', 'fot', 'fotc', 'fol', 'fole', 'fold', 'folde', 'folded', 'foldedl', 'foldc', 'foldco', 'foldl', 'foldle', 'foll', 'folle', 'follet', 'follo', 'foz', 'fl', 'fle', 'flee', 'fleec', 'fleece', 'fleecef', 'fleecefl', 'fleeceflo', 'fleeced', 'fleecel', 'fleecele', 'fleet', 'fleete', 'fleetf', 'fleetl', 'fled', 'flec', 'flect', 'flecto', 'flet', 'fletc', 'flo', 'floe', 'flop', 'flopp', 'floppe', 'flopo', 'flod', 'floo', 'flood', 'floode', 'flooded', 'floodp', 'floodo', 'floodc', 'floodco', 'floodcoc', 'floodt', 'floodl', 'floodle', 'floodlet', 'flooz', 'floc', 'floco', 'flocoo', 'flocc', 'flocco', 'flot', 'floto', 'de', 'dee', 'deep', 'deepe', 'deepl', 'deed', 'deede', 'deedee', 'deedeed', 'deedf', 'deedl', 'deedle', 'dep', 'depe', 'depeo', 'depeop', 'depeopl', 'depeople', 'depet', 'depete', 'depett', 'depo', 'depoe', 'depoet', 'depop', 'depot', 'depote', 'depol', 'dept', 'depl', 'deple', 'deplet', 'deplete', 'depleto', 'deplo', 'def', 'defe', 'defed', 'defec', 'defect', 'defecto', 'defectol', 'defectolo', 'defectl', 'defectle', 'defo', 'defoe', 'defoed', 'defol', 'deft', 'defte', 'deftl', 'defl', 'defle', 'deflec', 'deflect', 'deflecte', 'deflected', 'deflecto', 'deflo', 'defloc', 'deflocc', 'ded', 'dede', 'dedec', 'dedeco', 'dedo', 'dedol', 'deo', 'deop', 'deope', 'deopp', 'deod', 'deodo', 'deoc', 'deocc', 'deot', 'deoz', 'deozo', 'dec', 'dece', 'decep', 'decept', 'deced', 'decede', 'decel', 'decele', 'deco', 'decop', 'decopp', 'decoppe', 'decod', 'decode', 'decoc', 'decoct', 'decol', 'decolo', 'decoll', 'decolle', 'decollet', 'decollete', 'decl', 'decle', 'det', 'dete', 'detec', 'detect', 'detecte', 'detecto', 'deto', 'del', 'dele', 'delec', 'delect', 'delet', 'delete', 'deleto', 'delp', 'delf', 'delft', 'delo', 'deloc', 'delt', 'delto', 'dell', 'delle', 'dez', 'do', 'doe', 'dop', 'dope', 'dopp', 'doppe', 'doppel', 'doppl', 'dopple', 'dof', 'doff', 'doffe', 'doft', 'dod', 'dode', 'dodec', 'dodd', 'dodde', 'dodded', 'doddl', 'doddle', 'dodo', 'dodl', 'dodle', 'dodlet', 'doo', 'dood', 'doodl', 'doodle', 'dooc', 'dooco', 'doocot', 'dool', 'doole', 'doolee', 'doc', 'doce', 'doco', 'doct', 'docto', 'dot', 'dote', 'doted', 'dotc', 'dott', 'dotte', 'dotted', 'dottl', 'dottle', 'dotl', 'dotle', 'dol', 'dole', 'dolef', 'dolp', 'dold', 'dolo', 'dolc', 'dolt', 'doll', 'dollf', 'dolld', 'dolldo', 'dollo', 'dollop', 'doz', 'doze', 'dozed', 'dozz', 'dozzl', 'dozzle', 'dozzled', 'dz', 'dze', 'oe', 'oed', 'oede', 'oedo', 'oec', 'oeco', 'oecop', 'oecod', 'oecodo', 'op', 'ope', 'opel', 'opele', 'opelet', 'opp', 'oppo', 'opd', 'opo', 'opop', 'opod', 'opode', 'opodel', 'opodeld', 'opodeldo', 'opodeldoc', 'opot', 'opt', 'opto', 'optop', 'optot', 'optote', 'optotec', 'optol', 'optolo', 'of', 'off', 'offe', 'offp', 'offc', 'offco', 'offt', 'offl', 'offle', 'offlet', 'offlo', 'offloo', 'oft', 'ofte', 'oftt', 'oftl', 'ofl', 'ofle', 'oflet', 'oflete', 'od', 'ode', 'odeo', 'odel', 'odele', 'odelet', 'odd', 'oddl', 'oddle', 'odo', 'odop', 'odoo', 'odol', 'odolo', 'oo', 'ooe', 'ooec', 'oop', 'oopo', 'oopod', 'oopl', 'oof', 'ooft', 'ood', 'oodl', 'oodle', 'ooc', 'oot', 'ooto', 'ootoc', 'ootoco', 'ool', 'oole', 'oolo', 'ooll', 'ooz', 'ooze', 'oozo', 'oozoo', 'oc', 'oce', 'ocel', 'ocelo', 'ocelot', 'ocell', 'oco', 'ocot', 'ocote', 'occ', 'occl', 'oct', 'octe', 'octet', 'octo', 'octoe', 'octoec', 'octop', 'octope', 'octoped', 'octopede', 'octopet', 'octopo', 'octopod', 'octopode', 'octopodo', 'octopol', 'octopl', 'octoplo', 'octof', 'octofo', 'octod', 'octode', 'octodec', 'octodo', 'octoo', 'octoc', 'octoce', 'octoco', 'octocot', 'octol', 'octolo', 'octoloc', 'ocl', 'oclo', 'ocloc', 'ot', 'ote', 'otec', 'otect', 'otecto', 'otel', 'otelc', 'otelco', 'oto', 'otoe', 'otop', 'otopo', 'otopol', 'otopl', 'otod', 'otoc', 'otoce', 'otocep', 'otoco', 'otocl', 'otocle', 'otot', 'ototo', 'otol', 'otolo', 'ott', 'otte', 'otto', 'ol', 'ole', 'olef', 'oleo', 'oleop', 'oleopt', 'oleopte', 'oleod', 'oleoc', 'oleoce', 'oleocel', 'oleocell', 'oleocello', 'oleot', 'olec', 'olet', 'olp', 'olpe', 'olf', 'old', 'olde', 'oldf', 'oldl', 'olo', 'olt', 'olto', 'oll', 'olle', 'ollo', 'olloc', 'oz', 'oze', 'ozo', 'ozop', 'ozoc', 'ozoce', 'ozot', 'ce', 'cee', 'cep', 'cepe', 'cept', 'cepto', 'ced', 'cede', 'ceo', 'cec', 'ceco', 'cet', 'cete', 'ceto', 'cetot', 'cetoto', 'cetotol', 'cetol', 'cetolo', 'cel', 'cele', 'celeo', 'celo', 'celot', 'celoto', 'celt', 'cell', 'celle', 'cellep', 'cellepo', 'celled', 'cello', 'cellop', 'co', 'coe', 'coef', 'coeff', 'coeffe', 'coeffec', 'coeffect', 'coeffl', 'coed', 'coec', 'coet', 'coete', 'coel', 'coele', 'coelec', 'coelect', 'coelecto', 'coelel', 'coeld', 'coelde', 'coelo', 'coelop', 'coelopl', 'coelod', 'coelodo', 'coeloz', 'coelozo', 'cop', 'cope', 'copep', 'copepo', 'copepod', 'copepodo', 'copet', 'copel', 'copell', 'copp', 'coppe', 'copped', 'coppet', 'coppl', 'copple', 'coppled', 'copplec', 'copo', 'copol', 'copt', 'copte', 'copl', 'cople', 'coplo', 'coplot', 'coplott', 'coplotte', 'cof', 'cofe', 'cofeo', 'cofeof', 'cofeoff', 'cofeoffe', 'cofeoffee', 'coff', 'coffe', 'coffee', 'coffeep', 'coffeepo', 'coffeepot', 'coffeec', 'coffeet', 'coffeel', 'coffeele', 'coffl', 'coffle', 'cofo', 'coft', 'cod', 'code', 'codep', 'codepo', 'codef', 'codefe', 'codec', 'codecl', 'codel', 'codele', 'codp', 'codf', 'codd', 'codde', 'coddl', 'coddle', 'codo', 'codol', 'codl', 'coo', 'cooe', 'cooee', 'coop', 'coope', 'coof', 'cood', 'coodl', 'coodle', 'coot', 'coote', 'cootf', 'cootfo', 'cootfoo', 'cootfoot', 'cool', 'coole', 'coolt', 'cooll', 'coc', 'coce', 'coco', 'cocoo', 'cocot', 'cocott', 'cocotte', 'cocoz', 'cocoze', 'cocozel', 'cocozell', 'cocozelle', 'cocc', 'cocce', 'cocco', 'coccoc', 'coccot', 'coccol', 'coct', 'cocto', 'coctop', 'cot', 'cote', 'cotef', 'cotel', 'cotell', 'cotelle', 'coto', 'cotc', 'cott', 'cotte', 'cotted', 'cotto', 'cotl', 'col', 'cole', 'colep', 'colepl', 'coleo', 'coleop', 'coleopt', 'coleopte', 'coleoc', 'colec', 'colect', 'colecto', 'colet', 'colp', 'colpe', 'colpeo', 'colpo', 'colpop', 'colpope', 'colpopt', 'colpopto', 'colpopl', 'colpoc', 'colpoce', 'colpocel', 'colpocele', 'colpot', 'colpoto', 'cold', 'colde', 'coldp', 'coldf', 'coldl', 'colo', 'coloe', 'colop', 'colope', 'colopt', 'colopto', 'colopl', 'colod', 'coloc', 'coloce', 'colocep', 'coloco', 'colocol', 'colocl', 'colot', 'coloto', 'colol', 'colc', 'colco', 'colcot', 'colt', 'colte', 'coltp', 'coll', 'colle', 'collee', 'collec', 'collect', 'collecte', 'collected', 'collectedl', 'collecto', 'collet', 'collete', 'collo', 'collop', 'collope', 'colloped', 'collod', 'colloc', 'collot', 'colz', 'coz', 'coze', 'ct', 'cte', 'ctet', 'cteto', 'ctetol', 'ctetolo', 'cl', 'cle', 'clee', 'clep', 'clept', 'clepto', 'clef', 'cleft', 'clefte', 'clefted', 'cled', 'cledo', 'cleo', 'clec', 'clet', 'cletc', 'clo', 'clop', 'clof', 'cloff', 'clod', 'clodp', 'clodpo', 'clodpol', 'clodpoll', 'clodd', 'clodde', 'clodl', 'clodle', 'clodlet', 'cloo', 'cloop', 'cloof', 'cloot', 'cloc', 'clot', 'clote', 'clott', 'clotte', 'clotted', 'cz', 'te', 'tee', 'teed', 'teedl', 'teedle', 'teet', 'teete', 'teeto', 'teetot', 'teel', 'tep', 'tepe', 'tepee', 'tepef', 'tepet', 'tepo', 'tef', 'teff', 'ted', 'tede', 'tedd', 'tedde', 'teo', 'teop', 'teoc', 'tec', 'teco', 'tect', 'tecto', 'tectoc', 'tectoce', 'tectocep', 'tectol', 'tectolo', 'tet', 'tete', 'tetel', 'tetc', 'tett', 'tette', 'tel', 'tele', 'telep', 'telepo', 'telepl', 'teled', 'telede', 'teleo', 'teleop', 'teleopt', 'teleod', 'teleode', 'teleodo', 'teleoc', 'teleoce', 'teleocep', 'teleot', 'teleote', 'teleol', 'teleolo', 'teleoz', 'teleozo', 'teleozoo', 'telec', 'teleco', 'telecod', 'telecode', 'telect', 'telet', 'teleto', 'teletop', 'teletopo', 'telel', 'telele', 'telelec', 'telelect', 'telp', 'telf', 'telfe', 'telfo', 'telo', 'telop', 'telopt', 'telod', 'telode', 'teloc', 'teloce', 'telot', 'telote', 'telol', 'telole', 'telolec', 'telt', 'tell', 'telle', 'tellee', 'tellt', 'tez', 'to', 'toe', 'toep', 'toepl', 'toed', 'toec', 'toet', 'toeto', 'toetoe', 'toel', 'toele', 'toell', 'top', 'tope', 'topee', 'topep', 'topepo', 'topec', 'topect', 'topecto', 'topp', 'toppe', 'topped', 'toppl', 'topple', 'topf', 'topfl', 'topo', 'topop', 'topoc', 'topot', 'topol', 'topolo', 'topc', 'topco', 'topt', 'topl', 'tople', 'toplo', 'toplof', 'toploft', 'tof', 'toff', 'toffe', 'toffee', 'toft', 'tofte', 'tod', 'tode', 'todd', 'todde', 'toddl', 'toddle', 'too', 'toop', 'tood', 'toodl', 'toodle', 'toodlel', 'toodlelo', 'toodleloo', 'toodlelood', 'toodleloodl', 'toodleloodle', 'toot', 'toote', 'tootl', 'tootle', 'tool', 'toole', 'toolp', 'toolpl', 'tooll', 'toolle', 'tooz', 'toozo', 'toozoo', 'toozl', 'toozle', 'toc', 'toco', 'tocop', 'tocod', 'tocol', 'tocolo', 'tocc', 'tot', 'tote', 'totel', 'totelo', 'toto', 'totc', 'tott', 'totte', 'tottl', 'tottle', 'tol', 'tole', 'tolp', 'tolf', 'told', 'toldo', 'tolt', 'tolte', 'toll', 'tolle', 'tollp', 'tollpe', 'tollt', 'toz', 'toze', 'tozee', 'tc', 'tl', 'tz', 'tzo', 'tzol', 'le', 'lee', 'leep', 'leef', 'leeft', 'leed', 'leec', 'leet', 'lep', 'lepe', 'lepo', 'lepoc', 'lepot', 'lept', 'lepto', 'leptop', 'leptope', 'leptopel', 'leptopell', 'leptod', 'leptode', 'leptoc', 'leptoce', 'leptocep', 'leptocl', 'leptot', 'leptote', 'lef', 'left', 'lefto', 'led', 'lede', 'ledo', 'ledol', 'leo', 'leop', 'leopo', 'leopol', 'leopold', 'leot', 'lec', 'leco', 'lecot', 'lect', 'lecte', 'lecto', 'lectot', 'let', 'lete', 'letd', 'letdo', 'leto', 'letof', 'letoff', 'letc', 'lett', 'lette', 'lo', 'loe', 'lop', 'lope', 'lopp', 'loppe', 'loppet', 'lopo', 'lopol', 'lof', 'loft', 'lofte', 'loftl', 'loftle', 'lod', 'lode', 'loo', 'loop', 'loope', 'loopf', 'loopl', 'loople', 'looplet', 'loof', 'lood', 'loot', 'loote', 'loc', 'loce', 'locel', 'locell', 'loco', 'locof', 'locofo', 'locofoc', 'locofoco', 'locod', 'locode', 'lot', 'lote', 'loto', 'lotop', 'lott', 'lotte', 'lotto', 'lol', 'loll', 'lolle', 'lollo', 'lollop', 'loz', 'loze', 'll', 'ze', 'zee', 'zeed', 'zep', 'zepp', 'zeppe', 'zeppel', 'zed', 'zedo', 'zeo', 'zeol', 'zec', 'zecc', 'zet', 'zete', 'zetet', 'zel', 'zo', 'zoe', 'zoef', 'zoefo', 'zoet', 'zop', 'zod', 'zoo', 'zooe', 'zooec', 'zoop', 'zoope', 'zoopl', 'zoof', 'zood', 'zoode', 'zooc', 'zooce', 'zoocec', 'zooco', 'zoocoe', 'zoot', 'zoote', 'zootec', 'zooto', 'zootot', 'zootote', 'zool', 'zoolo', 'zooz', 'zoozo', 'zoozoo', 'zoc', 'zocc', 'zocco', 'zoccol', 'zoccolo', 'zol', 'zolo', 'zolot', 'zoll', 'zolle', 'zollp', 'zollpf', 'zl', 'zlo', 'zlot']\n"
     ]
    }
   ],
   "source": [
    "longer_list = []\n",
    "\n",
    "for word in words_longer:\n",
    "    if len(word) > 1:\n",
    "        longer_list.append(word)\n",
    "print(longer_list) "
   ]
  },
  {
   "cell_type": "code",
   "execution_count": 133,
   "id": "1547b50b",
   "metadata": {},
   "outputs": [
    {
     "name": "stdout",
     "output_type": "stream",
     "text": [
      " The trie approach to finding words formed from letters of the eye chart \n",
      "using nltk, returns 1,722 words. But, if you look closely, you'll see that it\n",
      "is comprised of mostly fragments of full English words. Let's try to improve upon this.\n"
     ]
    }
   ],
   "source": [
    "word_list_length = len(longer_list)\n",
    "print(f\"\"\" The trie approach to finding words formed from letters of the eye chart \n",
    "using nltk, returns{word_list_length: ,} words. But, if you look closely, you'll see that it\n",
    "is comprised of mostly fragments of full English words. Let's try to improve upon this.\"\"\")"
   ]
  },
  {
   "cell_type": "markdown",
   "id": "e62881ce",
   "metadata": {},
   "source": [
    "# Let's use the trie with another word list and call it words3"
   ]
  },
  {
   "cell_type": "code",
   "execution_count": 22,
   "id": "429bd0b1",
   "metadata": {},
   "outputs": [],
   "source": [
    "trie = {}\n",
    "\n",
    "with open('/Users/nathanwalter/jobsearch/Snellen_Letters_and_Words/web2.txt') as words3:\n",
    "\n",
    "\n",
    "    for word in words3:\n",
    "        cur = trie\n",
    "        for l in word:\n",
    "            cur  = cur.setdefault(l, {})\n",
    "            cur['word'] = True # defined if this node indicates a complete word\n",
    "        \n",
    "def findWords(word, trie = trie, cur = '', words3 = []):\n",
    "    for i, letter in enumerate(word):\n",
    "        if letter in trie:\n",
    "            if 'word' in trie[letter]:\n",
    "                words3.append(cur)\n",
    "            findWords(word, trie[letter], cur+letter, words3 )    \n",
    "            # first example: findWords(word[:i] + word[i+1:], trie[letter], cur+letter, word_list )\n",
    "\n",
    "    return [word for word in words3 if word in words3]\n",
    "\n",
    "words3 = findWords(\"epfdoctlz\")"
   ]
  },
  {
   "cell_type": "code",
   "execution_count": 23,
   "id": "133bd923",
   "metadata": {
    "collapsed": true
   },
   "outputs": [
    {
     "name": "stdout",
     "output_type": "stream",
     "text": [
      "['ce', 'cec', 'ced', 'cel', 'cele', 'cell', 'celle', 'cellep', 'cello', 'celo', 'celot', 'cep', 'cept', 'cet', 'ceto', 'cetol', 'cetot', 'cetoto', 'cl', 'cle', 'cled', 'clef', 'cleft', 'clefte', 'clep', 'clept', 'clet', 'clo', 'clod', 'clodd', 'clodl', 'clodle', 'clodp', 'clodpo', 'clodpol', 'clof', 'cloo', 'clot', 'clott', 'clotte', 'co', 'coc', 'cocc', 'cocco', 'coco', 'cocot', 'cocott', 'cocoz', 'cocoze', 'cocozel', 'cocozell', 'coct', 'cocto', 'cod', 'codd', 'coddl', 'code', 'codec', 'codef', 'codel', 'codep', 'codo', 'coe', 'coef', 'coeff', 'coeffe', 'coeffec', 'coel', 'coeld', 'coele', 'coelec', 'coelect', 'coelo', 'coelod', 'coelop', 'coeloz', 'coet', 'cof', 'cofe', 'cofeo', 'cofeof', 'cofeoff', 'cofeoffe', 'coff', 'coffe', 'coffee', 'coffeel', 'coffeep', 'coffeepo', 'coffl', 'col', 'colc', 'colco', 'cold', 'cole', 'colec', 'colect', 'coleo', 'coleop', 'coleopt', 'colep', 'coll', 'colle', 'collec', 'collect', 'collecte', 'collected', 'collet', 'collo', 'collop', 'collope', 'colo', 'coloc', 'coloce', 'coloco', 'colop', 'colopt', 'colot', 'colp', 'colpe', 'colpo', 'colpoc', 'colpoce', 'colpocel', 'colpop', 'colpopt', 'colpot', 'colt', 'coo', 'cood', 'coodl', 'cooe', 'cool', 'coop', 'coot', 'cootf', 'cootfo', 'cootfoo', 'cop', 'cope', 'copel', 'copep', 'copepo', 'copepod', 'copl', 'coplo', 'coplot', 'coplott', 'copo', 'copp', 'coppe', 'coppl', 'copple', 'copt', 'cot', 'cote', 'cotel', 'cotell', 'cott', 'cotte', 'coz', 'ct', 'cte', 'ctet', 'cteto', 'ctetol', 'de', 'dec', 'dece', 'deced', 'decel', 'decep', 'decl', 'deco', 'decoc', 'decod', 'decol', 'decoll', 'decolle', 'decollet', 'decop', 'decopp', 'ded', 'dede', 'dedec', 'dedo', 'dee', 'deed', 'deede', 'deedee', 'deedl', 'deep', 'def', 'defe', 'defec', 'defect', 'defectl', 'defecto', 'defectol', 'defl', 'defle', 'deflec', 'deflect', 'deflecte', 'deflo', 'defloc', 'defo', 'defoe', 'deft', 'del', 'dele', 'delec', 'delet', 'delf', 'dell', 'delo', 'delt', 'deo', 'deoc', 'deod', 'deop', 'deoz', 'dep', 'depe', 'depeo', 'depeop', 'depeopl', 'depet', 'depl', 'deple', 'deplet', 'depo', 'depoe', 'depot', 'det', 'dete', 'detec', 'detect', 'do', 'doc', 'doct', 'dod', 'dodd', 'dodde', 'doddl', 'dode', 'dodl', 'dodle', 'dof', 'doff', 'dol', 'dole', 'doll', 'dolld', 'dollo', 'doo', 'dooc', 'dooco', 'dood', 'doodl', 'dool', 'doole', 'dop', 'dopp', 'doppe', 'doppl', 'dot', 'dote', 'dotl', 'dott', 'dotte', 'dottl', 'doz', 'doze', 'dozz', 'dozzl', 'dozzle', 'dz', 'ec', 'ecc', 'eccl', 'ecco', 'ecd', 'ecl', 'ecle', 'eclec', 'eco', 'ecol', 'ecot', 'ect', 'ecte', 'ecto', 'ectoc', 'ectoco', 'ectocoe', 'ectod', 'ectoe', 'ectol', 'ectole', 'ectolo', 'ectop', 'ectopt', 'ectot', 'ectoz', 'ectozo', 'ecz', 'ed', 'edd', 'ede', 'edeo', 'edeol', 'edeot', 'ee', 'eel', 'eelp', 'eelpo', 'ef', 'eff', 'effe', 'effec', 'effect', 'effectl', 'effet', 'effl', 'effo', 'efo', 'eft', 'el', 'eld', 'ele', 'elec', 'elect', 'electe', 'eleo', 'eleop', 'eleopt', 'elf', 'elfl', 'elflo', 'ell', 'elle', 'ello', 'elo', 'elop', 'eo', 'eoz', 'eozo', 'ep', 'epe', 'epep', 'epepo', 'epo', 'epod', 'epol', 'epoo', 'epop', 'epope', 'epopo', 'epopt', 'et', 'ett', 'ettl', 'fe', 'fec', 'fed', 'fee', 'feed', 'feel', 'feet', 'feetl', 'feez', 'fel', 'fell', 'fello', 'felt', 'felte', 'feo', 'feof', 'feoff', 'feoffe', 'fet', 'fete', 'fetel', 'fetl', 'fetlo', 'feto', 'fetop', 'fett', 'fettl', 'fez', 'fezz', 'fezze', 'fl', 'fle', 'flec', 'flect', 'flee', 'fleec', 'fleece', 'fleecef', 'fleecefl', 'fleecel', 'fleet', 'flet', 'flo', 'floc', 'flocc', 'floco', 'floo', 'flood', 'floodc', 'floodco', 'floode', 'floodl', 'floodle', 'flop', 'flopp', 'flot', 'fo', 'foc', 'fod', 'fodd', 'foe', 'foel', 'fol', 'fold', 'foldc', 'folde', 'folded', 'foldl', 'foll', 'folle', 'foo', 'food', 'foodl', 'fool', 'foold', 'foolo', 'foot', 'footc', 'footcl', 'footclo', 'foote', 'footf', 'footfo', 'footl', 'footlo', 'footp', 'fooz', 'foozl', 'fop', 'fopp', 'fot', 'le', 'lec', 'leco', 'lect', 'lecto', 'led', 'ledo', 'lee', 'leef', 'lef', 'left', 'leo', 'leop', 'leopo', 'leopol', 'lep', 'lepo', 'lept', 'lepto', 'leptoc', 'leptoce', 'leptod', 'leptop', 'leptope', 'leptopel', 'leptot', 'let', 'letd', 'leto', 'letof', 'lett', 'lo', 'loc', 'loce', 'locel', 'loco', 'locod', 'locof', 'locofo', 'locofoc', 'lod', 'lof', 'loft', 'loftl', 'lol', 'loll', 'lollo', 'loo', 'loop', 'loopl', 'loople', 'loot', 'lop', 'lopo', 'lopp', 'loppe', 'lot', 'loto', 'lott', 'loz', 'oc', 'occ', 'oce', 'ocel', 'ocelo', 'ocl', 'oclo', 'oco', 'ocot', 'oct', 'octe', 'octo', 'octoc', 'octoco', 'octod', 'octode', 'octoe', 'octof', 'octol', 'octolo', 'octop', 'octope', 'octoped', 'octopl', 'octopo', 'octopod', 'od', 'odd', 'oddl', 'ode', 'odel', 'odele', 'odo', 'odol', 'oe', 'oec', 'oeco', 'oecod', 'oed', 'of', 'off', 'offc', 'offl', 'offle', 'offlo', 'ofl', 'ofle', 'oflet', 'oft', 'ol', 'old', 'ole', 'oleo', 'oleoc', 'oleoce', 'oleocel', 'oleocell', 'oleop', 'oleopt', 'oll', 'ollo', 'olp', 'olt', 'oo', 'ood', 'oodl', 'ooe', 'oof', 'ool', 'oop', 'oopo', 'oot', 'ooto', 'ootoc', 'ooz', 'oozo', 'op', 'ope', 'opel', 'opele', 'opo', 'opod', 'opode', 'opodel', 'opodeld', 'opodeldo', 'opp', 'opt', 'opto', 'optol', 'optot', 'optote', 'ot', 'ote', 'otec', 'otect', 'otel', 'otelc', 'oto', 'otoc', 'otoce', 'otocl', 'otol', 'otop', 'otopo', 'otot', 'ott', 'oz', 'ozo', 'ozoc', 'pe', 'pec', 'peco', 'pecop', 'pecopt', 'pect', 'pecto', 'pectoc', 'pectoce', 'pectocel', 'ped', 'pedd', 'peddl', 'pede', 'pedet', 'pedo', 'pedod', 'pedol', 'pee', 'peel', 'peele', 'peep', 'pel', 'pele', 'pell', 'pelle', 'pellet', 'pellete', 'pello', 'pelo', 'pelot', 'pelt', 'peltl', 'peo', 'peop', 'peopl', 'people', 'peopled', 'peoplel', 'peot', 'pep', 'pepl', 'pepp', 'pept', 'pepto', 'peptot', 'pet', 'petc', 'petco', 'pete', 'pett', 'pette', 'petted', 'pettl', 'pez', 'pf', 'pfe', 'pfef', 'pfeff', 'pl', 'ple', 'plec', 'pleco', 'plecop', 'plecopt', 'plect', 'plecto', 'plectop', 'plectopt', 'pleo', 'pleod', 'pleop', 'pleopo', 'plo', 'ploc', 'plod', 'plodd', 'plot', 'plotl', 'plott', 'plotte', 'po', 'poc', 'poco', 'pod', 'podd', 'podde', 'poddl', 'pode', 'podel', 'podelc', 'podl', 'podo', 'podoc', 'podoce', 'podod', 'podol', 'podz', 'podzo', 'poe', 'poet', 'poetd', 'poetl', 'pol', 'pold', 'pole', 'polel', 'poll', 'polle', 'pollet', 'pollo', 'polo', 'poloc', 'polt', 'poltf', 'poltfo', 'poltfoo', 'poltfoot', 'poltfoote', 'polto', 'polz', 'poo', 'pood', 'poodl', 'poodle', 'poodled', 'pool', 'poop', 'poope', 'pop', 'popc', 'popd', 'popdo', 'pope', 'poped', 'popel', 'popl', 'poplo', 'poplol', 'popp', 'poppe', 'poppl', 'pot', 'pote', 'potl', 'poto', 'potp', 'pott', 'potte', 'pottl', 'pottle', 'poz', 'pozz', 'pozzo', 'pt', 'pto', 'te', 'tec', 'tect', 'tecto', 'tectoc', 'tectoce', 'tectol', 'ted', 'tedd', 'tee', 'teed', 'teedl', 'teet', 'teeto', 'tef', 'tel', 'tele', 'telec', 'teleco', 'telecod', 'teled', 'telel', 'telele', 'telelec', 'teleo', 'teleoc', 'teleoce', 'teleod', 'teleol', 'teleop', 'teleot', 'teleoz', 'teleozo', 'telep', 'telet', 'teleto', 'teletop', 'telf', 'tell', 'telle', 'telo', 'teloc', 'telod', 'telol', 'telole', 'telop', 'telot', 'teo', 'tep', 'tepe', 'tet', 'tete', 'tett', 'to', 'toc', 'toco', 'tocol', 'tod', 'todd', 'toddl', 'toe', 'toel', 'toep', 'toet', 'toeto', 'tof', 'toff', 'toffe', 'toft', 'tol', 'told', 'toll', 'tollp', 'tolt', 'too', 'tood', 'toodl', 'toodle', 'toodlel', 'toodlelo', 'toodleloo', 'toodlelood', 'toodleloodl', 'tool', 'tooll', 'toolp', 'toot', 'tootl', 'tooz', 'toozl', 'toozo', 'top', 'topc', 'tope', 'topec', 'topect', 'topep', 'topf', 'topl', 'toplo', 'toplof', 'topo', 'topol', 'topp', 'toppe', 'toppl', 'tot', 'tote', 'totel', 'tott', 'tottl', 'toz', 'toze', 'tz', 'tzo', 'ze', 'zec', 'zed', 'zee', 'zeo', 'zep', 'zepp', 'zeppe', 'zet', 'zete', 'zl', 'zlo', 'zo', 'zoc', 'zocc', 'zocco', 'zoccol', 'zoe', 'zoef', 'zol', 'zoll', 'zollp', 'zolo', 'zoo', 'zooc', 'zooce', 'zooco', 'zood', 'zooe', 'zool', 'zoop', 'zoot', 'zoote', 'zooto', 'zootot', 'zooz', 'zoozo']\n"
     ]
    }
   ],
   "source": [
    "third_list = []\n",
    "\n",
    "for word in words3:\n",
    "    if len(word) > 1:\n",
    "        third_list.append(word)\n",
    "third_list = set(third_list)   \n",
    "third_list = list(third_list)\n",
    "print(sorted(third_list))"
   ]
  },
  {
   "cell_type": "code",
   "execution_count": 134,
   "id": "76db9476",
   "metadata": {},
   "outputs": [
    {
     "name": "stdout",
     "output_type": "stream",
     "text": [
      " Words3 which uses a different list of words than NLTK,\n",
      "returns 931 words from the eye chart. \n",
      "However, upon closer inspection, most of these are the repeating beginnings of words. \n",
      "This is not the result we are looking for.\n"
     ]
    }
   ],
   "source": [
    "words3_length = len(third_list)\n",
    "print(f\"\"\" Words3 which uses a different list of words than NLTK,\n",
    "returns {words3_length} words from the eye chart. \n",
    "However, upon closer inspection, most of these are the repeating beginnings of words. \n",
    "This is not the result we are looking for.\"\"\")"
   ]
  },
  {
   "cell_type": "markdown",
   "id": "a64f0324",
   "metadata": {},
   "source": [
    "# Shifting away from trie for now"
   ]
  },
  {
   "cell_type": "markdown",
   "id": "9e85e124",
   "metadata": {},
   "source": [
    "## Switching to Enchant"
   ]
  },
  {
   "cell_type": "code",
   "execution_count": 136,
   "id": "c617c56b",
   "metadata": {},
   "outputs": [],
   "source": [
    "# uncomment below if you don't have enchant installed already\n",
    "#!pip install pyenchant"
   ]
  },
  {
   "cell_type": "code",
   "execution_count": 137,
   "id": "76eec7a3",
   "metadata": {},
   "outputs": [],
   "source": [
    "from itertools import permutations\n",
    "import enchant"
   ]
  },
  {
   "cell_type": "code",
   "execution_count": 82,
   "id": "2fd5defa",
   "metadata": {},
   "outputs": [],
   "source": [
    "# https://www.youtube.com/watch?v=nLWi-2b_OjE\n",
    "\n",
    "d = enchant.Dict(\"en_US\")\n",
    "op = set()\n",
    "\n",
    "inp = \"epfdoctlz\"\n",
    "letter = [x.lower() for x in inp]\n",
    "\n",
    "def enchanted_snellen(inp):\n",
    "    for n in range(len(inp)):\n",
    "        for y in list(permutations(letter, n)):\n",
    "            z = ''.join(y)\n",
    "            if len(z) > 2:\n",
    "                if d.check(z):\n",
    "                    op.add(z)\n",
    "    return list(op)\n",
    "enchant_snellen = enchanted_snellen(inp)"
   ]
  },
  {
   "cell_type": "code",
   "execution_count": 84,
   "id": "68282a77",
   "metadata": {},
   "outputs": [
    {
     "name": "stdout",
     "output_type": "stream",
     "text": [
      "['clef', 'cleft', 'clod', 'clop', 'clot', 'cod', 'code', 'coed', 'col', 'cold', 'colt', 'cop', 'cope', 'coped', 'cot', 'cote', 'cpd', 'cpl', 'def', 'deft', 'delft', 'depot', 'dept', 'doc', 'doe', 'dole', 'dolt', 'dope', 'dot', 'dote', 'doz', 'doze', 'dpt', 'ecol', 'elf', 'etc', 'fed', 'felt', 'fez', 'fled', 'floe', 'flop', 'flt', 'foe', 'fol', 'fold', 'fop', 'ftp', 'led', 'left', 'let', 'lode', 'loft', 'lofted', 'lop', 'lope', 'loped', 'lot', 'ltd', 'ode', 'oft', 'old', 'ole', 'ope', 'oped', 'opt', 'opted', 'pct', 'pelf', 'pelt', 'pet', 'plod', 'plot', 'pod', 'poet', 'pol', 'pole', 'poled', 'pot', 'ted', 'tel', 'toe', 'toed', 'told', 'tole', 'top', 'zed']\n"
     ]
    }
   ],
   "source": [
    "print(sorted(enchant_snellen))"
   ]
  },
  {
   "cell_type": "code",
   "execution_count": 140,
   "id": "aad6f273",
   "metadata": {},
   "outputs": [
    {
     "name": "stdout",
     "output_type": "stream",
     "text": [
      " Enchant prints out a beautiful list of full English words. \n",
      "It is only 87 words long, though. I think it can be\n",
      "improve upon.\n"
     ]
    }
   ],
   "source": [
    "enchant_length = len(enchant_snellen)\n",
    "print(f\"\"\" Enchant prints out a beautiful list of full English words. \n",
    "It is only {enchant_length} words long, though. I think it can be\n",
    "improve upon.\"\"\")"
   ]
  },
  {
   "cell_type": "markdown",
   "id": "f0c03767",
   "metadata": {},
   "source": [
    "# For loop with Break using NLTK word list"
   ]
  },
  {
   "cell_type": "code",
   "execution_count": 80,
   "id": "c34bd02d",
   "metadata": {
    "collapsed": true
   },
   "outputs": [
    {
     "data": {
      "text/plain": [
       "['cede',\n",
       " 'cee',\n",
       " 'cell',\n",
       " 'celled',\n",
       " 'cello',\n",
       " 'celt',\n",
       " 'cep',\n",
       " 'cepe',\n",
       " 'cled',\n",
       " 'clee',\n",
       " 'clef',\n",
       " 'cleft',\n",
       " 'clefted',\n",
       " 'clep',\n",
       " 'clod',\n",
       " 'clodlet',\n",
       " 'clodpoll',\n",
       " 'cloff',\n",
       " 'cloof',\n",
       " 'cloop',\n",
       " 'cloot',\n",
       " 'clop',\n",
       " 'clot',\n",
       " 'clote',\n",
       " 'cocco',\n",
       " 'coco',\n",
       " 'cocotte',\n",
       " 'cocozelle',\n",
       " 'cod',\n",
       " 'coddle',\n",
       " 'code',\n",
       " 'codo',\n",
       " 'codol',\n",
       " 'coe',\n",
       " 'coed',\n",
       " 'coeffect',\n",
       " 'coelect',\n",
       " 'cofeoffee',\n",
       " 'coff',\n",
       " 'coffee',\n",
       " 'coffeepot',\n",
       " 'coffle',\n",
       " 'coft',\n",
       " 'col',\n",
       " 'cold',\n",
       " 'cole',\n",
       " 'coll',\n",
       " 'collect',\n",
       " 'collected',\n",
       " 'collet',\n",
       " 'collop',\n",
       " 'colloped',\n",
       " 'colp',\n",
       " 'colpeo',\n",
       " 'colpocele',\n",
       " 'colt',\n",
       " 'coo',\n",
       " 'coodle',\n",
       " 'cooee',\n",
       " 'coof',\n",
       " 'cool',\n",
       " 'coop',\n",
       " 'coot',\n",
       " 'cootfoot',\n",
       " 'cop',\n",
       " 'cope',\n",
       " 'copepod',\n",
       " 'copped',\n",
       " 'coppet',\n",
       " 'copple',\n",
       " 'coppled',\n",
       " 'cot',\n",
       " 'cote',\n",
       " 'coto',\n",
       " 'cotte',\n",
       " 'cotted',\n",
       " 'coz',\n",
       " 'coze',\n",
       " 'decoct',\n",
       " 'decode',\n",
       " 'decollete',\n",
       " 'dedo',\n",
       " 'dee',\n",
       " 'deed',\n",
       " 'deedeed',\n",
       " 'deep',\n",
       " 'defect',\n",
       " 'deflect',\n",
       " 'deflected',\n",
       " 'deft',\n",
       " 'dele',\n",
       " 'delete',\n",
       " 'delf',\n",
       " 'delft',\n",
       " 'dell',\n",
       " 'depeople',\n",
       " 'deplete',\n",
       " 'depot',\n",
       " 'detect',\n",
       " 'doc',\n",
       " 'dod',\n",
       " 'dodd',\n",
       " 'dodded',\n",
       " 'doddle',\n",
       " 'dodlet',\n",
       " 'dodo',\n",
       " 'doe',\n",
       " 'doff',\n",
       " 'dole',\n",
       " 'doll',\n",
       " 'dollop',\n",
       " 'dolt',\n",
       " 'doocot',\n",
       " 'doodle',\n",
       " 'dool',\n",
       " 'doolee',\n",
       " 'dop',\n",
       " 'dope',\n",
       " 'dot',\n",
       " 'dote',\n",
       " 'doted',\n",
       " 'dotted',\n",
       " 'dottle',\n",
       " 'doze',\n",
       " 'dozed',\n",
       " 'dozzled',\n",
       " 'ecole',\n",
       " 'eddo',\n",
       " 'eel',\n",
       " 'eelpot',\n",
       " 'effect',\n",
       " 'effete',\n",
       " 'eft',\n",
       " 'eld',\n",
       " 'elect',\n",
       " 'electee',\n",
       " 'elf',\n",
       " 'ell',\n",
       " 'elle',\n",
       " 'elod',\n",
       " 'elope',\n",
       " 'elt',\n",
       " 'epee',\n",
       " 'epode',\n",
       " 'epopee',\n",
       " 'epopt',\n",
       " 'ettle',\n",
       " 'fed',\n",
       " 'fee',\n",
       " 'feed',\n",
       " 'feel',\n",
       " 'feeze',\n",
       " 'fell',\n",
       " 'felloe',\n",
       " 'felt',\n",
       " 'felted',\n",
       " 'feod',\n",
       " 'feoff',\n",
       " 'feoffee',\n",
       " 'fet',\n",
       " 'fettle',\n",
       " 'fez',\n",
       " 'fezzed',\n",
       " 'fled',\n",
       " 'flee',\n",
       " 'fleece',\n",
       " 'fleeced',\n",
       " 'fleet',\n",
       " 'flet',\n",
       " 'floc',\n",
       " 'floe',\n",
       " 'flood',\n",
       " 'flooded',\n",
       " 'floodlet',\n",
       " 'flop',\n",
       " 'flot',\n",
       " 'fod',\n",
       " 'foe',\n",
       " 'fold',\n",
       " 'folded',\n",
       " 'fole',\n",
       " 'foo',\n",
       " 'food',\n",
       " 'fool',\n",
       " 'foot',\n",
       " 'footed',\n",
       " 'footle',\n",
       " 'foozle',\n",
       " 'fop',\n",
       " 'fot',\n",
       " 'led',\n",
       " 'lede',\n",
       " 'ledol',\n",
       " 'lee',\n",
       " 'leed',\n",
       " 'leep',\n",
       " 'leet',\n",
       " 'left',\n",
       " 'let',\n",
       " 'lete',\n",
       " 'letoff',\n",
       " 'loco',\n",
       " 'locofoco',\n",
       " 'lod',\n",
       " 'lode',\n",
       " 'lof',\n",
       " 'loft',\n",
       " 'loll',\n",
       " 'lollop',\n",
       " 'loo',\n",
       " 'lood',\n",
       " 'loof',\n",
       " 'loop',\n",
       " 'looplet',\n",
       " 'loot',\n",
       " 'lop',\n",
       " 'lope',\n",
       " 'loppet',\n",
       " 'lot',\n",
       " 'lote',\n",
       " 'lotto',\n",
       " 'ocelot',\n",
       " 'ocote',\n",
       " 'octet',\n",
       " 'octoped',\n",
       " 'octopede',\n",
       " 'octopod',\n",
       " 'odd',\n",
       " 'ode',\n",
       " 'odel',\n",
       " 'odelet',\n",
       " 'off',\n",
       " 'offlet',\n",
       " 'oflete',\n",
       " 'oft',\n",
       " 'old',\n",
       " 'oleo',\n",
       " 'olpe',\n",
       " 'oopod',\n",
       " 'ooze',\n",
       " 'ope',\n",
       " 'opelet',\n",
       " 'opodeldoc',\n",
       " 'opt',\n",
       " 'otto',\n",
       " 'ped',\n",
       " 'peddle',\n",
       " 'pedee',\n",
       " 'pee',\n",
       " 'peed',\n",
       " 'peel',\n",
       " 'peele',\n",
       " 'peeled',\n",
       " 'peep',\n",
       " 'pelf',\n",
       " 'pell',\n",
       " 'pellet',\n",
       " 'pelleted',\n",
       " 'pelt',\n",
       " 'people',\n",
       " 'peoplet',\n",
       " 'pep',\n",
       " 'pepo',\n",
       " 'pet',\n",
       " 'pete',\n",
       " 'peto',\n",
       " 'petted',\n",
       " 'pettle',\n",
       " 'pled',\n",
       " 'pleopod',\n",
       " 'ploce',\n",
       " 'plod',\n",
       " 'plop',\n",
       " 'plot',\n",
       " 'plote',\n",
       " 'plotted',\n",
       " 'poco',\n",
       " 'pod',\n",
       " 'podded',\n",
       " 'poddle',\n",
       " 'podzol',\n",
       " 'poe',\n",
       " 'poet',\n",
       " 'pol',\n",
       " 'pole',\n",
       " 'poll',\n",
       " 'polled',\n",
       " 'polo',\n",
       " 'polt',\n",
       " 'poltfoot',\n",
       " 'poltfooted',\n",
       " 'poodle',\n",
       " 'poof',\n",
       " 'pool',\n",
       " 'poop',\n",
       " 'pooped',\n",
       " 'poot',\n",
       " 'pop',\n",
       " 'pope',\n",
       " 'poppel',\n",
       " 'poppet',\n",
       " 'popple',\n",
       " 'pot',\n",
       " 'pote',\n",
       " 'potoo',\n",
       " 'pott',\n",
       " 'potted',\n",
       " 'pottle',\n",
       " 'pottled',\n",
       " 'potto',\n",
       " 'tec',\n",
       " 'ted',\n",
       " 'tee',\n",
       " 'teedle',\n",
       " 'teel',\n",
       " 'teet',\n",
       " 'teff',\n",
       " 'tele',\n",
       " 'telecode',\n",
       " 'tell',\n",
       " 'tellee',\n",
       " 'tellt',\n",
       " 'telt',\n",
       " 'tepee',\n",
       " 'tete',\n",
       " 'tetel',\n",
       " 'tez',\n",
       " 'toco',\n",
       " 'tod',\n",
       " 'toddle',\n",
       " 'tode',\n",
       " 'toe',\n",
       " 'toed',\n",
       " 'toetoe',\n",
       " 'toff',\n",
       " 'toffee',\n",
       " 'toft',\n",
       " 'tol',\n",
       " 'told',\n",
       " 'toldo',\n",
       " 'tole',\n",
       " 'toll',\n",
       " 'tolt',\n",
       " 'too',\n",
       " 'toodle',\n",
       " 'toodleloodle',\n",
       " 'tool',\n",
       " 'toop',\n",
       " 'toot',\n",
       " 'tootle',\n",
       " 'toozle',\n",
       " 'toozoo',\n",
       " 'top',\n",
       " 'tope',\n",
       " 'topee',\n",
       " 'topepo',\n",
       " 'topo',\n",
       " 'topped',\n",
       " 'topple',\n",
       " 'tot',\n",
       " 'tote',\n",
       " 'toto',\n",
       " 'tottle',\n",
       " 'toze',\n",
       " 'tozee',\n",
       " 'zed',\n",
       " 'zee',\n",
       " 'zeed',\n",
       " 'zel',\n",
       " 'zocco',\n",
       " 'zoccolo',\n",
       " 'zoll',\n",
       " 'zolle',\n",
       " 'zoo',\n",
       " 'zoozoo',\n",
       " 'cold',\n",
       " 'deep',\n",
       " 'effect',\n",
       " 'fold',\n",
       " 'food',\n",
       " 'foot',\n",
       " 'left',\n",
       " 'let',\n",
       " 'off',\n",
       " 'old',\n",
       " 'pot',\n",
       " 'toe',\n",
       " 'top']"
      ]
     },
     "execution_count": 80,
     "metadata": {},
     "output_type": "execute_result"
    }
   ],
   "source": [
    "word_list = word_list\n",
    "pattern = 'epfdoctlz'\n",
    "\n",
    "def snellen_words(pattern):\n",
    "    ans = []\n",
    "    for word in word_list:\n",
    "        find = True\n",
    "        for letter in word:\n",
    "            if letter not in pattern:\n",
    "                find = False\n",
    "                break\n",
    "        if find == True and len(word) > 2:\n",
    "            ans.append(word)\n",
    "    return ans\n",
    "\n",
    "\n",
    "chart_words = snellen_words(pattern)\n",
    "chart_words"
   ]
  },
  {
   "cell_type": "code",
   "execution_count": 145,
   "id": "93f9a7f6",
   "metadata": {},
   "outputs": [
    {
     "name": "stdout",
     "output_type": "stream",
     "text": [
      " When filtering for words containing 3 or more letters,\n",
      "we are presented with 388 English words the Eye Chart letters. \n",
      "Although, not as large a number as some of the above examples,\n",
      "the break method ensures that we don't return anything unless it is\n",
      "a complete word in the nltk word list.\n"
     ]
    }
   ],
   "source": [
    "total = len(chart_words)\n",
    "print(f\"\"\" When filtering for words containing 3 or more letters,\n",
    "we are presented with {total} English words the Eye Chart letters. \n",
    "Although, not as large a number as some of the above examples,\n",
    "the break method ensures that we don't return anything unless it is\n",
    "a complete word in the nltk word list.\"\"\")"
   ]
  }
 ],
 "metadata": {
  "kernelspec": {
   "display_name": "firstEnv",
   "language": "python",
   "name": "firstenv"
  },
  "language_info": {
   "codemirror_mode": {
    "name": "ipython",
    "version": 3
   },
   "file_extension": ".py",
   "mimetype": "text/x-python",
   "name": "python",
   "nbconvert_exporter": "python",
   "pygments_lexer": "ipython3",
   "version": "3.9.6"
  },
  "toc": {
   "base_numbering": 1,
   "nav_menu": {},
   "number_sections": true,
   "sideBar": true,
   "skip_h1_title": false,
   "title_cell": "Table of Contents",
   "title_sidebar": "Contents",
   "toc_cell": false,
   "toc_position": {},
   "toc_section_display": true,
   "toc_window_display": false
  }
 },
 "nbformat": 4,
 "nbformat_minor": 5
}
