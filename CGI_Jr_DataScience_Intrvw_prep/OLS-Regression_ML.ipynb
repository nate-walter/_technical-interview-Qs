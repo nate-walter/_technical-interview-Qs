{
 "cells": [
  {
   "cell_type": "code",
   "execution_count": 1,
   "metadata": {},
   "outputs": [
    {
     "name": "stdout",
     "output_type": "stream",
     "text": [
      "                            OLS Regression Results                            \n",
      "==============================================================================\n",
      "Dep. Variable:                      y   R-squared:                       0.977\n",
      "Model:                            OLS   Adj. R-squared:                  0.969\n",
      "Method:                 Least Squares   F-statistic:                     128.1\n",
      "Date:                Tue, 22 Aug 2023   Prob (F-statistic):            0.00148\n",
      "Time:                        15:26:31   Log-Likelihood:                -2.5719\n",
      "No. Observations:                   5   AIC:                             9.144\n",
      "Df Residuals:                       3   BIC:                             8.363\n",
      "Df Model:                           1                                         \n",
      "Covariance Type:            nonrobust                                         \n",
      "==============================================================================\n",
      "                 coef    std err          t      P>|t|      [0.025      0.975]\n",
      "------------------------------------------------------------------------------\n",
      "const          0.2700      0.548      0.493      0.656      -1.474       2.014\n",
      "x1             1.8700      0.165     11.318      0.001       1.344       2.396\n",
      "==============================================================================\n",
      "Omnibus:                          nan   Durbin-Watson:                   2.862\n",
      "Prob(Omnibus):                    nan   Jarque-Bera (JB):                1.250\n",
      "Skew:                          -1.224   Prob(JB):                        0.535\n",
      "Kurtosis:                       2.943   Cond. No.                         8.37\n",
      "==============================================================================\n",
      "\n",
      "Notes:\n",
      "[1] Standard Errors assume that the covariance matrix of the errors is correctly specified.\n"
     ]
    },
    {
     "name": "stderr",
     "output_type": "stream",
     "text": [
      "/opt/anaconda3/envs/firstEnv/lib/python3.9/site-packages/statsmodels/stats/stattools.py:74: ValueWarning: omni_normtest is not valid with less than 8 observations; 5 samples were given.\n",
      "  warn(\"omni_normtest is not valid with less than 8 observations; %i \"\n"
     ]
    }
   ],
   "source": [
    "# Use virtual env - .firstEnv\n",
    "\n",
    "import statsmodels.api as sm\n",
    "import numpy as np\n",
    "\n",
    "# Sample data: Advertising spend and corresponding sales\n",
    "ad_spend = np.array([1, 2, 3, 4, 5])  # e.g., in $1000s\n",
    "sales = np.array([2.2, 4.4, 5.1, 7.9, 9.8])  # e.g., in $10000s\n",
    "\n",
    "# Add a constant to the model (for the intercept)\n",
    "X = sm.add_constant(ad_spend)\n",
    "model = sm.OLS(sales, X).fit()\n",
    "\n",
    "print(model.summary())"
   ]
  },
  {
   "cell_type": "code",
   "execution_count": null,
   "metadata": {},
   "outputs": [],
   "source": []
  }
 ],
 "metadata": {
  "kernelspec": {
   "display_name": "firstEnv",
   "language": "python",
   "name": "firstenv"
  },
  "language_info": {
   "codemirror_mode": {
    "name": "ipython",
    "version": 3
   },
   "file_extension": ".py",
   "mimetype": "text/x-python",
   "name": "python",
   "nbconvert_exporter": "python",
   "pygments_lexer": "ipython3",
   "version": "3.9.6"
  },
  "orig_nbformat": 4,
  "vscode": {
   "interpreter": {
    "hash": "aee8b7b246df8f9039afb4144a1f6fd8d2ca17a180786b69acc140d282b71a49"
   }
  }
 },
 "nbformat": 4,
 "nbformat_minor": 2
}
