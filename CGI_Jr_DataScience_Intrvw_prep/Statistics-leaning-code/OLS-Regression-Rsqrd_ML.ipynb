{
 "cells": [
  {
   "cell_type": "code",
   "execution_count": 1,
   "metadata": {},
   "outputs": [
    {
     "name": "stdout",
     "output_type": "stream",
     "text": [
      "R-squared value: 1.00\n"
     ]
    }
   ],
   "source": [
    "import statsmodels.api as sm\n",
    "import numpy as np\n",
    "\n",
    "# Sample data: House sizes and their corresponding prices\n",
    "sizes = np.array([1000, 1500, 2000, 2500, 3000])  # in sq. feet\n",
    "prices = np.array([200, 280, 350, 420, 500])  # in $1000s\n",
    "\n",
    "# Add a constant to the model (for the intercept)\n",
    "X = sm.add_constant(sizes)\n",
    "model = sm.OLS(prices, X).fit()\n",
    "\n",
    "print(f\"R-squared value: {model.rsquared:.2f}\")"
   ]
  },
  {
   "cell_type": "code",
   "execution_count": null,
   "metadata": {},
   "outputs": [],
   "source": []
  }
 ],
 "metadata": {
  "kernelspec": {
   "display_name": "firstEnv",
   "language": "python",
   "name": "firstenv"
  },
  "language_info": {
   "codemirror_mode": {
    "name": "ipython",
    "version": 3
   },
   "file_extension": ".py",
   "mimetype": "text/x-python",
   "name": "python",
   "nbconvert_exporter": "python",
   "pygments_lexer": "ipython3",
   "version": "3.9.6"
  },
  "orig_nbformat": 4,
  "vscode": {
   "interpreter": {
    "hash": "aee8b7b246df8f9039afb4144a1f6fd8d2ca17a180786b69acc140d282b71a49"
   }
  }
 },
 "nbformat": 4,
 "nbformat_minor": 2
}
