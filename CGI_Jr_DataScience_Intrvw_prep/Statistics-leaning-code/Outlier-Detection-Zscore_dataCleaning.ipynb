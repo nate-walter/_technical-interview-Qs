{
 "cells": [
  {
   "cell_type": "code",
   "execution_count": 1,
   "metadata": {},
   "outputs": [
    {
     "data": {
      "text/plain": [
       "(      Values\n",
       " 0  54.967142\n",
       " 1  48.617357\n",
       " 2  56.476885\n",
       " 3  65.230299\n",
       " 4  47.658466\n",
       " 5  47.658630\n",
       " 6  65.792128\n",
       " 7  57.674347\n",
       " 8  45.305256\n",
       " 9  55.425600,\n",
       "       Values\n",
       " 0  54.967142\n",
       " 1  48.617357\n",
       " 2  56.476885\n",
       " 3  65.230299\n",
       " 4  47.658466\n",
       " 5  47.658630\n",
       " 6  65.792128\n",
       " 7  57.674347\n",
       " 8  45.305256\n",
       " 9  55.425600)"
      ]
     },
     "execution_count": 1,
     "metadata": {},
     "output_type": "execute_result"
    }
   ],
   "source": [
    "import pandas as pd\n",
    "import numpy as np\n",
    "from scipy.stats import zscore\n",
    "\n",
    "# Regenerating the medium-sized DataFrame with some outliers\n",
    "np.random.seed(42)\n",
    "data = np.random.normal(50, 10, 100).tolist()  # 100 data points with mean=50, std=10\n",
    "data[45:50] = [100, 110, 120, 130, 140]  # Introducing outliers\n",
    "\n",
    "df_outliers = pd.DataFrame({'Values': data})\n",
    "\n",
    "# Using the Z-score to detect outliers\n",
    "z_scores_outliers = zscore(df_outliers['Values'])\n",
    "abs_z_scores_outliers = np.abs(z_scores_outliers)\n",
    "filtered_entries_outliers = (abs_z_scores_outliers < 3)\n",
    "df_cleaned_outliers = df_outliers[filtered_entries_outliers]\n",
    "\n",
    "df_outliers.head(10), df_cleaned_outliers.head(10)  # Displaying the first 10 rows for brevity\n"
   ]
  },
  {
   "cell_type": "code",
   "execution_count": null,
   "metadata": {},
   "outputs": [],
   "source": []
  }
 ],
 "metadata": {
  "kernelspec": {
   "display_name": "firstEnv",
   "language": "python",
   "name": "firstenv"
  },
  "language_info": {
   "codemirror_mode": {
    "name": "ipython",
    "version": 3
   },
   "file_extension": ".py",
   "mimetype": "text/x-python",
   "name": "python",
   "nbconvert_exporter": "python",
   "pygments_lexer": "ipython3",
   "version": "3.9.6"
  },
  "orig_nbformat": 4,
  "vscode": {
   "interpreter": {
    "hash": "aee8b7b246df8f9039afb4144a1f6fd8d2ca17a180786b69acc140d282b71a49"
   }
  }
 },
 "nbformat": 4,
 "nbformat_minor": 2
}
