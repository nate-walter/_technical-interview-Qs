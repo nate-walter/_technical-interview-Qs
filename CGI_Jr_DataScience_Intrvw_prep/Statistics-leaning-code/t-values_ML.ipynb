{
 "cells": [
  {
   "cell_type": "code",
   "execution_count": 1,
   "metadata": {},
   "outputs": [
    {
     "name": "stdout",
     "output_type": "stream",
     "text": [
      "[11.02270384 64.08587988]\n"
     ]
    }
   ],
   "source": [
    "import statsmodels.api as sm\n",
    "import numpy as np\n",
    "\n",
    "# Sample data: House sizes and their corresponding prices\n",
    "sizes = np.array([1000, 1500, 2000, 2500, 3000])  # in sq. feet\n",
    "prices = np.array([200, 280, 350, 420, 500])  # in $1000s\n",
    "\n",
    "# Add a constant to the model (for the intercept)\n",
    "X = sm.add_constant(sizes)\n",
    "model = sm.OLS(prices, X).fit()\n",
    "\n",
    "print(model.tvalues)\n"
   ]
  },
  {
   "cell_type": "markdown",
   "metadata": {},
   "source": [
    "t = Estimated Coefficient / Standard Error of the Coefficient"
   ]
  },
  {
   "cell_type": "markdown",
   "metadata": {},
   "source": []
  }
 ],
 "metadata": {
  "kernelspec": {
   "display_name": "firstEnv",
   "language": "python",
   "name": "firstenv"
  },
  "language_info": {
   "codemirror_mode": {
    "name": "ipython",
    "version": 3
   },
   "file_extension": ".py",
   "mimetype": "text/x-python",
   "name": "python",
   "nbconvert_exporter": "python",
   "pygments_lexer": "ipython3",
   "version": "3.9.6"
  },
  "orig_nbformat": 4
 },
 "nbformat": 4,
 "nbformat_minor": 2
}
