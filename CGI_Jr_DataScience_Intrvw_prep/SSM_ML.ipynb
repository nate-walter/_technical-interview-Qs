{
 "cells": [
  {
   "cell_type": "markdown",
   "metadata": {},
   "source": [
    "# Regression Sum of Squares\n",
    "y hat = predicted values, y bar = The average (mean) of all observed values of dependent variable\n",
    "The purpose of SSM is to quantify how much of the variability in the actual grades is captured by the regression model as opposed to just using the average grade for all students."
   ]
  },
  {
   "cell_type": "markdown",
   "metadata": {},
   "source": [
    "$$\n",
    "\\text{SSM} = \\sum_{i=1}^{n} (\\hat{y}_i - \\bar{y})^2\n",
    "$$\n"
   ]
  },
  {
   "cell_type": "code",
   "execution_count": 1,
   "metadata": {},
   "outputs": [
    {
     "name": "stdout",
     "output_type": "stream",
     "text": [
      "SSM value: 490.00\n"
     ]
    }
   ],
   "source": [
    "import numpy as np\n",
    "import statsmodels.api as sm\n",
    "\n",
    "# Sample data: Hours studied and corresponding grades\n",
    "hours_studied = np.array([2, 4, 6, 8, 10])\n",
    "grades = np.array([60, 70, 75, 80, 90])\n",
    "\n",
    "# Fit a linear regression model\n",
    "X = sm.add_constant(hours_studied)\n",
    "model = sm.OLS(grades, X).fit()\n",
    "predicted_grades = model.predict(X)\n",
    "\n",
    "# Calculate SSM\n",
    "mean_grade = np.mean(grades)\n",
    "ssm = np.sum((predicted_grades - mean_grade)**2)\n",
    "\n",
    "print(f\"SSM value: {ssm:.2f}\")"
   ]
  },
  {
   "cell_type": "code",
   "execution_count": null,
   "metadata": {},
   "outputs": [],
   "source": []
  }
 ],
 "metadata": {
  "kernelspec": {
   "display_name": "firstEnv",
   "language": "python",
   "name": "firstenv"
  },
  "language_info": {
   "codemirror_mode": {
    "name": "ipython",
    "version": 3
   },
   "file_extension": ".py",
   "mimetype": "text/x-python",
   "name": "python",
   "nbconvert_exporter": "python",
   "pygments_lexer": "ipython3",
   "version": "3.9.6"
  },
  "orig_nbformat": 4,
  "vscode": {
   "interpreter": {
    "hash": "aee8b7b246df8f9039afb4144a1f6fd8d2ca17a180786b69acc140d282b71a49"
   }
  }
 },
 "nbformat": 4,
 "nbformat_minor": 2
}
