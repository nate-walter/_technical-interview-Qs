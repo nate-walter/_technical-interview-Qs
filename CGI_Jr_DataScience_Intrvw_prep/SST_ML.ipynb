{
 "cells": [
  {
   "cell_type": "markdown",
   "metadata": {},
   "source": [
    "$$\n",
    "\\text{SST} = \\sum_{i=1}^{n} (y_i - \\bar{y})^2\n",
    "$$\n"
   ]
  },
  {
   "cell_type": "markdown",
   "metadata": {},
   "source": [
    "Definition:\n",
    "The Total Sum of Squares (SST) represents the total variability in the dependent variable without considering the effect of the independent variables. It quantifies how much the data points,yi vary around the mean (y bar)"
   ]
  },
  {
   "cell_type": "code",
   "execution_count": 1,
   "metadata": {},
   "outputs": [
    {
     "name": "stdout",
     "output_type": "stream",
     "text": [
      "SST value: 500.00\n"
     ]
    }
   ],
   "source": [
    "import numpy as np\n",
    "\n",
    "# Sample data: Hours studied and corresponding grades\n",
    "hours_studied = np.array([2, 4, 6, 8, 10])\n",
    "grades = np.array([60, 70, 75, 80, 90])\n",
    "\n",
    "# Calculate SST\n",
    "mean_grade = np.mean(grades)\n",
    "sst = np.sum((grades - mean_grade)**2)\n",
    "\n",
    "print(f\"SST value: {sst:.2f}\")\n"
   ]
  },
  {
   "cell_type": "code",
   "execution_count": null,
   "metadata": {},
   "outputs": [],
   "source": []
  }
 ],
 "metadata": {
  "kernelspec": {
   "display_name": "firstEnv",
   "language": "python",
   "name": "firstenv"
  },
  "language_info": {
   "codemirror_mode": {
    "name": "ipython",
    "version": 3
   },
   "file_extension": ".py",
   "mimetype": "text/x-python",
   "name": "python",
   "nbconvert_exporter": "python",
   "pygments_lexer": "ipython3",
   "version": "3.9.6"
  },
  "orig_nbformat": 4
 },
 "nbformat": 4,
 "nbformat_minor": 2
}
