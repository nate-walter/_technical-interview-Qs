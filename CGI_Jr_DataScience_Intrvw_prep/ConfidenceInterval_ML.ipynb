{
 "cells": [
  {
   "cell_type": "markdown",
   "metadata": {},
   "source": [
    "Formula for Confidence Interval:\n",
    "For a population mean \n",
    "μ, using a sample mean x bar (sample mean) and standard error confidence interval is given by:\n",
    "$$\n",
    "CI = \\bar{x} \\pm (Z_{\\frac{\\alpha}{2}} \\times SE)\n",
    "$$\n",
    "\n",
    "\n",
    "\n",
    "Standard Error (SE)\n",
    "$$\n",
    "SE = \\frac{s}{\\sqrt{n}}\n",
    "$$\n"
   ]
  },
  {
   "cell_type": "code",
   "execution_count": 1,
   "metadata": {},
   "outputs": [
    {
     "name": "stdout",
     "output_type": "stream",
     "text": [
      "95% Confidence Interval for the mean weight: (149.2073635437553, 151.5426364562447)\n"
     ]
    }
   ],
   "source": [
    "import numpy as np\n",
    "import scipy.stats as stats\n",
    "\n",
    "# Sample data: Weights of a random sample of apples\n",
    "apple_weights = np.array([148, 151, 149, 152, 153, 150, 149, 151])\n",
    "\n",
    "# Calculate mean and standard error\n",
    "mean_weight = np.mean(apple_weights)\n",
    "se = stats.sem(apple_weights)\n",
    "\n",
    "# Calculate the 95% confidence interval\n",
    "confidence_level = 0.95\n",
    "ci = stats.norm.interval(confidence_level, loc=mean_weight, scale=se)\n",
    "\n",
    "print(f\"95% Confidence Interval for the mean weight: {ci}\")\n"
   ]
  },
  {
   "cell_type": "code",
   "execution_count": null,
   "metadata": {},
   "outputs": [],
   "source": []
  }
 ],
 "metadata": {
  "kernelspec": {
   "display_name": "firstEnv",
   "language": "python",
   "name": "firstenv"
  },
  "language_info": {
   "codemirror_mode": {
    "name": "ipython",
    "version": 3
   },
   "file_extension": ".py",
   "mimetype": "text/x-python",
   "name": "python",
   "nbconvert_exporter": "python",
   "pygments_lexer": "ipython3",
   "version": "3.9.6"
  },
  "orig_nbformat": 4,
  "vscode": {
   "interpreter": {
    "hash": "aee8b7b246df8f9039afb4144a1f6fd8d2ca17a180786b69acc140d282b71a49"
   }
  }
 },
 "nbformat": 4,
 "nbformat_minor": 2
}
