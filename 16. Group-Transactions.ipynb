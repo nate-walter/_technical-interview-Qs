{
 "cells": [
  {
   "cell_type": "markdown",
   "id": "22ff0902",
   "metadata": {},
   "source": [
    "For a given array of transactions, group all of the transactions by item name. Return an array of string where each string contains the item name followed by a space and the number of associated transactions.\n",
    "\n",
    "Note: Sort the array descending by transaction count, then ascending alphabetically by item name for items with matching transaction counts."
   ]
  },
  {
   "cell_type": "code",
   "execution_count": 10,
   "id": "7ac00b86",
   "metadata": {},
   "outputs": [],
   "source": [
    "test = ['purse', 'purse', 'belt', 'jeans', 'jeans', 'alamo', \n",
    "        'butter', 'alamo', 'star', 'alamo', 'jet', 'alamo', \n",
    "       'prom', 'zebra', 'aardvark', 'alamo', 'banner', 'belt',\n",
    "       'aardvark']"
   ]
  },
  {
   "cell_type": "code",
   "execution_count": 64,
   "id": "d2b88a0c",
   "metadata": {},
   "outputs": [],
   "source": [
    "import numpy as np\n",
    "\n",
    "def counter(lst):\n",
    "    ans = {}\n",
    "    for i in lst:\n",
    "        ans[i] = ans.get(i, 0) + 1\n",
    "    return ans\n",
    "\n",
    "def grouping(lst):\n",
    "    out = sorted(counter(lst).items(), key=lambda x:(-x[1],x[0]))\n",
    "    grouped = [' '.join([t[0], str(t[1])]) for t in out]\n",
    "    return grouped"
   ]
  },
  {
   "cell_type": "markdown",
   "id": "29075851",
   "metadata": {},
   "source": [
    "## Alternate "
   ]
  },
  {
   "cell_type": "code",
   "execution_count": 59,
   "id": "957ff32a",
   "metadata": {},
   "outputs": [],
   "source": [
    "import numpy as np\n",
    "\n",
    "def get_trans(lst):\n",
    "    ans = {}\n",
    "    for i in lst:\n",
    "        ans[i] = ans.get(i, 0) + 1\n",
    "    return ans\n",
    "\n",
    "def grouping(lst):\n",
    "    out = [' '.join([t[0],str(t[1])]) for t in sorted(get_trans(lst).items(), key=lambda x:(-x[1],x[0]))]\n",
    "    return out"
   ]
  },
  {
   "cell_type": "code",
   "execution_count": 70,
   "id": "a48de840",
   "metadata": {},
   "outputs": [],
   "source": []
  },
  {
   "cell_type": "code",
   "execution_count": null,
   "id": "b3e75db3",
   "metadata": {},
   "outputs": [],
   "source": []
  }
 ],
 "metadata": {
  "kernelspec": {
   "display_name": "firstEnv",
   "language": "python",
   "name": "firstenv"
  },
  "language_info": {
   "codemirror_mode": {
    "name": "ipython",
    "version": 3
   },
   "file_extension": ".py",
   "mimetype": "text/x-python",
   "name": "python",
   "nbconvert_exporter": "python",
   "pygments_lexer": "ipython3",
   "version": "3.9.6"
  },
  "toc": {
   "base_numbering": 1,
   "nav_menu": {},
   "number_sections": true,
   "sideBar": true,
   "skip_h1_title": false,
   "title_cell": "Table of Contents",
   "title_sidebar": "Contents",
   "toc_cell": false,
   "toc_position": {},
   "toc_section_display": true,
   "toc_window_display": false
  }
 },
 "nbformat": 4,
 "nbformat_minor": 5
}
